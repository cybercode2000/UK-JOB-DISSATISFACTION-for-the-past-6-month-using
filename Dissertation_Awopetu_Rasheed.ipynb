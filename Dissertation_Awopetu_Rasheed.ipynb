{
  "cells": [
    {
      "cell_type": "markdown",
      "metadata": {
        "id": "N2qqvh2lssBM"
      },
      "source": [
        "# **EXPLORING JOB DISSATISFACTION IN THE UK USING REDDIT DATA**"
      ]
    },
    {
      "cell_type": "markdown",
      "metadata": {
        "id": "4CIVfHa_susD"
      },
      "source": [
        "## **AN NLP-BASED THEMATIC AND SENTIMENT ANALYSIS**\n"
      ]
    },
    {
      "cell_type": "markdown",
      "metadata": {
        "id": "gy7-j9Izsxj-"
      },
      "source": [
        "### Student Name: Awopetu Rasheed Oluwadamilare"
      ]
    },
    {
      "cell_type": "markdown",
      "metadata": {
        "id": "FTacMB3nsz0B"
      },
      "source": [
        "### Student Number: 202432121"
      ]
    },
    {
      "cell_type": "markdown",
      "metadata": {
        "id": "a-7BHjzruDdT"
      },
      "source": [
        "### **Library Installation**"
      ]
    },
    {
      "cell_type": "code",
      "execution_count": 10,
      "metadata": {
        "colab": {
          "base_uri": "https://localhost:8080/"
        },
        "id": "kYLutu7quGfs",
        "outputId": "70935404-344c-46a6-9b79-b296edfee903"
      },
      "outputs": [
        {
          "output_type": "stream",
          "name": "stdout",
          "text": [
            "Requirement already satisfied: praw in /usr/local/lib/python3.12/dist-packages (7.8.1)\n",
            "Requirement already satisfied: pandas in /usr/local/lib/python3.12/dist-packages (2.2.2)\n",
            "Requirement already satisfied: tqdm in /usr/local/lib/python3.12/dist-packages (4.67.1)\n",
            "Requirement already satisfied: python-dotenv in /usr/local/lib/python3.12/dist-packages (1.1.1)\n",
            "Requirement already satisfied: emoji in /usr/local/lib/python3.12/dist-packages (2.15.0)\n",
            "Requirement already satisfied: vaderSentiment in /usr/local/lib/python3.12/dist-packages (3.3.2)\n",
            "Requirement already satisfied: prawcore<3,>=2.4 in /usr/local/lib/python3.12/dist-packages (from praw) (2.4.0)\n",
            "Requirement already satisfied: update_checker>=0.18 in /usr/local/lib/python3.12/dist-packages (from praw) (0.18.0)\n",
            "Requirement already satisfied: websocket-client>=0.54.0 in /usr/local/lib/python3.12/dist-packages (from praw) (1.8.0)\n",
            "Requirement already satisfied: numpy>=1.26.0 in /usr/local/lib/python3.12/dist-packages (from pandas) (2.0.2)\n",
            "Requirement already satisfied: python-dateutil>=2.8.2 in /usr/local/lib/python3.12/dist-packages (from pandas) (2.9.0.post0)\n",
            "Requirement already satisfied: pytz>=2020.1 in /usr/local/lib/python3.12/dist-packages (from pandas) (2025.2)\n",
            "Requirement already satisfied: tzdata>=2022.7 in /usr/local/lib/python3.12/dist-packages (from pandas) (2025.2)\n",
            "Requirement already satisfied: requests in /usr/local/lib/python3.12/dist-packages (from vaderSentiment) (2.32.4)\n",
            "Requirement already satisfied: six>=1.5 in /usr/local/lib/python3.12/dist-packages (from python-dateutil>=2.8.2->pandas) (1.17.0)\n",
            "Requirement already satisfied: charset_normalizer<4,>=2 in /usr/local/lib/python3.12/dist-packages (from requests->vaderSentiment) (3.4.3)\n",
            "Requirement already satisfied: idna<4,>=2.5 in /usr/local/lib/python3.12/dist-packages (from requests->vaderSentiment) (3.10)\n",
            "Requirement already satisfied: urllib3<3,>=1.21.1 in /usr/local/lib/python3.12/dist-packages (from requests->vaderSentiment) (2.5.0)\n",
            "Requirement already satisfied: certifi>=2017.4.17 in /usr/local/lib/python3.12/dist-packages (from requests->vaderSentiment) (2025.8.3)\n"
          ]
        }
      ],
      "source": [
        "pip install praw pandas tqdm python-dotenv emoji vaderSentiment"
      ]
    },
    {
      "cell_type": "markdown",
      "metadata": {
        "id": "8RBAniM5s2CB"
      },
      "source": [
        "### **Import the necessary libraries**"
      ]
    },
    {
      "cell_type": "code",
      "execution_count": 11,
      "metadata": {
        "id": "6pQoDEopsimT"
      },
      "outputs": [],
      "source": [
        "import pandas as pd\n",
        "import os, time, re, json\n",
        "import praw\n",
        "\n",
        "from dotenv import load_dotenv\n",
        "from datetime import datetime, timedelta\n",
        "from tqdm import tqdm"
      ]
    },
    {
      "cell_type": "markdown",
      "metadata": {
        "id": "J2c0sNV2uP_0"
      },
      "source": [
        "### **Loading Environment Variable from .env File**"
      ]
    },
    {
      "cell_type": "markdown",
      "metadata": {
        "id": "er9e7KoawDEy"
      },
      "source": [
        "##### To keep Reddit API credentials secure, we store them in a `.env` file instead of hardcoding into the script. So anytime we need them we can easily pass them to the reddit API easily"
      ]
    },
    {
      "cell_type": "code",
      "execution_count": 12,
      "metadata": {
        "colab": {
          "base_uri": "https://localhost:8080/"
        },
        "id": "tBOGWilKuWW7",
        "outputId": "b383bafe-cd3a-4534-df8c-1df27b108785"
      },
      "outputs": [
        {
          "output_type": "stream",
          "name": "stdout",
          "text": [
            "Environment variables loaded successfully.\n"
          ]
        }
      ],
      "source": [
        "environment_variable = load_dotenv()\n",
        "if environment_variable:\n",
        "    print(\"Environment variables loaded successfully.\")\n",
        "else:\n",
        "    print(\"Failed to load environment variables. Please Upload .env file\")"
      ]
    },
    {
      "cell_type": "markdown",
      "metadata": {
        "id": "0j7aWtI_s7HB"
      },
      "source": [
        "### **Loading Dataset & Data Collection**"
      ]
    },
    {
      "cell_type": "markdown",
      "metadata": {
        "id": "mU82Tz2twnp0"
      },
      "source": [
        "We will collects Reddit posts and comments related to **job dissatisfaction & Satisfaction in the UK**.  \n",
        "- Subreddits: `ukjobs`, `AskUK`, `CasualUK`, `unitedkingdom`, `britishproblems`, `antiwork`, `antiwork`, `WorkReform`, `careerguidance`, `AskHR`, `britishproblems`,.  \n",
        "- Queries: dissatisfaction terms (e.g., *\"hate my job\"*, *\"toxic workplace\"*) and satisfaction terms (e.g., *\"love my job\"*).  \n",
        "- UK filter ensures posts are from UK-focused subs or mention UK places.  \n",
        "- Data Period Lenght: last **6 months** of activity.  \n",
        "- Output: two CSV files (`reddit_posts_uk_jobs.csv`, `reddit_comments_uk_jobs.csv`).\n"
      ]
    },
    {
      "cell_type": "markdown",
      "metadata": {
        "id": "TbJnAn30yDLD"
      },
      "source": [
        "##### Firstly, let create a subreddit list that we intend to use."
      ]
    },
    {
      "cell_type": "code",
      "execution_count": 13,
      "metadata": {
        "colab": {
          "base_uri": "https://localhost:8080/"
        },
        "id": "SjzmopDNs5T5",
        "outputId": "37324a71-cbaf-4ae8-efe2-daac337e44ca"
      },
      "outputs": [
        {
          "output_type": "stream",
          "name": "stdout",
          "text": [
            "List of subreddits: ['UKJobs', 'AskUK', 'CasualUK', 'unitedkingdom', 'antiwork', 'WorkReform', 'careerguidance', 'AskHR', 'britishproblems', 'recruitinghell', 'WorkReformUK']\n"
          ]
        }
      ],
      "source": [
        "SUBREDDITS = [\n",
        "    \"UKJobs\", \"AskUK\", \"CasualUK\", \"unitedkingdom\", \"antiwork\", \"WorkReform\",\n",
        "    \"careerguidance\", \"AskHR\", \"britishproblems\", \"recruitinghell\", \"WorkReformUK\"\n",
        "]\n",
        "\n",
        "print(f\"List of subreddits: {(SUBREDDITS)}\")"
      ]
    },
    {
      "cell_type": "markdown",
      "metadata": {
        "id": "mshrXJL0ykOL"
      },
      "source": [
        "##### **Query Terms**\n",
        "\n",
        "Two sets of keyword queries were defined to guide Reddit searches:  \n",
        "\n",
        "- **Job Dissatisfaction** → phrases like *\"hate my job\"*, *\"toxic workplace\"*, *\"low pay\"*, *\"burnout\"*, *\"bad boss\"*, and *\"bullying at work\"*.  \n",
        "- **Job Satisfaction** → phrases like *\"love my job\"*, *\"happy at work\"*, *\"good boss\"*, *\"work life balance\"*, and *\"fair pay\"*.  \n",
        "\n",
        "These terms ensure we capture a broad range of posts expressing both negative and positive experiences with work in the UK.\n"
      ]
    },
    {
      "cell_type": "code",
      "execution_count": 14,
      "metadata": {
        "colab": {
          "base_uri": "https://localhost:8080/"
        },
        "id": "-pcIXKp5yd6b",
        "outputId": "444c9572-c3e3-4ce6-a859-78bce1cb8863"
      },
      "outputs": [
        {
          "output_type": "stream",
          "name": "stdout",
          "text": [
            "List of Dissatisfaction terms: ['job dissatisfaction', 'hate my job', 'toxic workplace', 'burnout', 'overworked', 'bad boss', 'micromanagement', 'low pay', 'underpaid', 'quit my job', 'resign', 'stress at work', 'bullying at work', 'zero hours', 'unhappy at work', 'stressful job', 'poor management', 'burnt out', 'miserable at work', 'dead-end job', 'exploited at work', 'no work-life balance', 'hate going to work', 'rejection', 'really bad', 'unreasonable', 'management cuts benefits']\n"
          ]
        }
      ],
      "source": [
        "DISSATISFACTION_TERMS = [\n",
        "    \"job dissatisfaction\", \"hate my job\", \"toxic workplace\", \"burnout\", \"overworked\",\n",
        "    \"bad boss\", \"micromanagement\", \"low pay\", \"underpaid\", \"quit my job\", \"resign\",\n",
        "    \"stress at work\", \"bullying at work\", \"zero hours\", \"unhappy at work\", \"stressful job\", \"poor management\", \"burnt out\", \"miserable at work\",\n",
        "    \"dead-end job\", \"exploited at work\", \"no work-life balance\", \"hate going to work\", \"rejection\", \"really bad\", \"unreasonable\", \"management cuts benefits\"\n",
        "]\n",
        "\n",
        "print(f\"List of Dissatisfaction terms: {(DISSATISFACTION_TERMS)}\")"
      ]
    },
    {
      "cell_type": "code",
      "execution_count": 15,
      "metadata": {
        "colab": {
          "base_uri": "https://localhost:8080/"
        },
        "id": "0ecZ5NwTzRvb",
        "outputId": "7f69c266-c2e6-44e3-b32a-54887fb2aa14"
      },
      "outputs": [
        {
          "output_type": "stream",
          "name": "stdout",
          "text": [
            "List of Satisfaction terms: ['love my job', 'happy at work', 'good boss', 'great team', 'work life balance', 'supportive manager', 'flexible working', 'fair pay']\n"
          ]
        }
      ],
      "source": [
        "SATISFACTION_TERMS = [\n",
        "    \"love my job\", \"happy at work\", \"good boss\", \"great team\", \"work life balance\",\n",
        "    \"supportive manager\", \"flexible working\", \"fair pay\"\n",
        "]\n",
        "print(f\"List of Satisfaction terms: {(SATISFACTION_TERMS)}\")"
      ]
    },
    {
      "cell_type": "markdown",
      "metadata": {
        "id": "bdGQPx56zyeM"
      },
      "source": [
        "##### A regex filter **(`UK_REGEX`)** was applied to retain only posts from UK-focused subreddits or those mentioning UK locations (e.g., London, Manchester, Scotland).\n"
      ]
    },
    {
      "cell_type": "code",
      "execution_count": 16,
      "metadata": {
        "id": "HHra5Cydziaq"
      },
      "outputs": [],
      "source": [
        "UK_REGEX = re.compile(r\"\\b(UK|United Kingdom|England|Scotland|Wales|Northern Ireland|London|Manchester|Birmingham|Leeds|Glasgow|Bristol|Liverpool)\\b\", re.IGNORECASE)"
      ]
    },
    {
      "cell_type": "markdown",
      "metadata": {
        "id": "y9ljwBtC0Iqj"
      },
      "source": [
        "##### Posts were collected from the **last 180 days (Approximately 6 months)** to capture recent discussions on job dissatisfaction and satisfaction in the UK."
      ]
    },
    {
      "cell_type": "code",
      "execution_count": 17,
      "metadata": {
        "id": "lJOYPcS60C6L"
      },
      "outputs": [],
      "source": [
        "DAYS_BACK = 180"
      ]
    },
    {
      "cell_type": "markdown",
      "metadata": {
        "id": "ui0HS4rA0pvi"
      },
      "source": [
        "##### **Reddit API Authentication** -> Access to Reddit data was established using the **PRAW (Python Reddit API Wrapper)** library.  Authentication requires three environment variables loaded from the `.env` file:"
      ]
    },
    {
      "cell_type": "code",
      "execution_count": 18,
      "metadata": {
        "id": "dkk5-5R_0iy7"
      },
      "outputs": [],
      "source": [
        "reddit = praw.Reddit(client_id=os.getenv(\"CLIENT_ID\"), client_secret=os.getenv(\"CLIENT_SECRET\"), user_agent=os.getenv(\"USER_AGENT\"), check_for_async=False, )"
      ]
    },
    {
      "cell_type": "markdown",
      "metadata": {
        "id": "T3I2rfEq12ca"
      },
      "source": [
        "##### A helper function was used to retain only posts from UK-focused subreddits or those mentioning UK locations.  \n"
      ]
    },
    {
      "cell_type": "code",
      "execution_count": 19,
      "metadata": {
        "id": "1nZ4GO7n09Ta"
      },
      "outputs": [],
      "source": [
        "def is_uk_related(text: str, subreddit: str) -> bool:\n",
        "    if subreddit.lower() in {\"ukjobs\", \"askuk\", \"casualuk\", \"unitedkingdom\", \"britishproblems\"}:\n",
        "        return True\n",
        "    return bool(UK_REGEX.search(text or \"\"))"
      ]
    },
    {
      "cell_type": "markdown",
      "metadata": {
        "id": "z7iqUF2t2Ocr"
      },
      "source": [
        "##### A custom function was used to search target subreddits with defined queries, filter by UK relevance and time window, and return labelled posts with top-level comments for analysis.  \n",
        "\n",
        "#### push shift documentation -> https://github.com/pushshift/api\n"
      ]
    },
    {
      "cell_type": "code",
      "execution_count": 20,
      "metadata": {
        "id": "IdyTtoGW1-wq"
      },
      "outputs": [],
      "source": [
        "def search_and_collect(queries, label):\n",
        "    \"\"\"\n",
        "    Search posts for each query across target subreddits, INCLUDE metadata AND top comments.\n",
        "    label = 'dissatisfaction' or 'satisfaction'\n",
        "    \"\"\"\n",
        "    since = int((datetime.utcnow() - timedelta(days=DAYS_BACK)).timestamp())\n",
        "    rows_posts, rows_comments = [], []\n",
        "\n",
        "    for sr in SUBREDDITS:\n",
        "        sub = reddit.subreddit(sr)\n",
        "        for q in queries:\n",
        "            results = sub.search(q, sort=\"new\", limit=500)\n",
        "            for s in tqdm(results, desc=f\"{sr} | {q}\"):\n",
        "                if s.created_utc < since:\n",
        "                    continue\n",
        "\n",
        "                # UK filter\n",
        "                blob = f\"{s.title}\\n{s.selftext or ''}\"\n",
        "                if not is_uk_related(blob, sr):\n",
        "                    continue\n",
        "\n",
        "                post_row = {\n",
        "                    \"id\": s.id,\n",
        "                    \"subreddit\": sr,\n",
        "                    \"created_utc\": s.created_utc,\n",
        "                    \"created_iso\": datetime.utcfromtimestamp(s.created_utc).isoformat(),\n",
        "                    \"author\": str(s.author) if s.author else None,\n",
        "                    \"title\": s.title,\n",
        "                    \"selftext\": s.selftext,\n",
        "                    \"score\": s.score,\n",
        "                    \"num_comments\": s.num_comments,\n",
        "                    \"url\": s.url,\n",
        "                    \"permalink\": f\"https://www.reddit.com{s.permalink}\",\n",
        "                    \"query\": q,\n",
        "                    \"label\": label,  # satisfaction OR dissatisfaction\n",
        "                    \"source\": \"reddit_api\",\n",
        "                }\n",
        "                rows_posts.append(post_row)\n",
        "\n",
        "                # Fetch a few top level comments for context\n",
        "                s.comment_sort = \"top\"\n",
        "                s.comments.replace_more(limit=0)\n",
        "                for c in s.comments[:25]:\n",
        "                    rows_comments.append({\n",
        "                        \"post_id\": s.id,\n",
        "                        \"comment_id\": c.id,\n",
        "                        \"created_utc\": c.created_utc,\n",
        "                        \"created_iso\": datetime.utcfromtimestamp(c.created_utc).isoformat(),\n",
        "                        \"author\": str(c.author) if c.author else None,\n",
        "                        \"body\": c.body,\n",
        "                        \"score\": c.score,\n",
        "                        \"permalink\": f\"https://www.reddit.com{c.permalink}\",\n",
        "                        \"subreddit\": sr,\n",
        "                        \"post_query\": q,\n",
        "                        \"post_label\": label,\n",
        "                    })\n",
        "\n",
        "                time.sleep(0.6)\n",
        "\n",
        "    return pd.DataFrame(rows_posts), pd.DataFrame(rows_comments)"
      ]
    },
    {
      "cell_type": "markdown",
      "metadata": {
        "id": "NjPR7axj3AKy"
      },
      "source": [
        "###### **Data Collection and Storage**\n",
        "The script collects Reddit posts for both dissatisfaction and satisfaction queries, merges and de-duplicates results, and saves labelled posts and comments as CSV files for subsequent NLP, sentiment, and thematic analysis.  \n"
      ]
    },
    {
      "cell_type": "code",
      "execution_count": 21,
      "metadata": {
        "colab": {
          "base_uri": "https://localhost:8080/"
        },
        "id": "FeSrMILu2kta",
        "outputId": "de80f015-0e11-4cc1-9594-ecfe9b405c5b"
      },
      "outputs": [
        {
          "output_type": "stream",
          "name": "stderr",
          "text": [
            "/tmp/ipython-input-189593791.py:6: DeprecationWarning: datetime.datetime.utcnow() is deprecated and scheduled for removal in a future version. Use timezone-aware objects to represent datetimes in UTC: datetime.datetime.now(datetime.UTC).\n",
            "  since = int((datetime.utcnow() - timedelta(days=DAYS_BACK)).timestamp())\n",
            "UKJobs | job dissatisfaction: 0it [00:00, ?it/s]/tmp/ipython-input-189593791.py:26: DeprecationWarning: datetime.datetime.utcfromtimestamp() is deprecated and scheduled for removal in a future version. Use timezone-aware objects to represent datetimes in UTC: datetime.datetime.fromtimestamp(timestamp, datetime.UTC).\n",
            "  \"created_iso\": datetime.utcfromtimestamp(s.created_utc).isoformat(),\n",
            "/tmp/ipython-input-189593791.py:48: DeprecationWarning: datetime.datetime.utcfromtimestamp() is deprecated and scheduled for removal in a future version. Use timezone-aware objects to represent datetimes in UTC: datetime.datetime.fromtimestamp(timestamp, datetime.UTC).\n",
            "  \"created_iso\": datetime.utcfromtimestamp(c.created_utc).isoformat(),\n",
            "UKJobs | job dissatisfaction: 12it [00:03,  3.22it/s]\n",
            "UKJobs | hate my job: 225it [01:58,  1.89it/s]\n",
            "UKJobs | toxic workplace: 69it [00:11,  5.78it/s]\n",
            "UKJobs | burnout: 83it [00:29,  2.78it/s]\n",
            "UKJobs | overworked: 72it [00:07,  9.03it/s]\n",
            "UKJobs | bad boss: 145it [00:24,  5.90it/s]\n",
            "UKJobs | micromanagement: 109it [00:31,  3.45it/s]\n",
            "UKJobs | low pay: 234it [01:44,  2.24it/s]\n",
            "UKJobs | underpaid: 229it [00:59,  3.88it/s]\n",
            "UKJobs | quit my job: 237it [04:07,  1.04s/it]\n",
            "UKJobs | resign: 237it [01:42,  2.30it/s]\n",
            "UKJobs | stress at work: 237it [02:41,  1.47it/s]\n",
            "UKJobs | bullying at work: 99it [00:16,  5.83it/s]\n",
            "UKJobs | zero hours: 178it [00:35,  5.06it/s]\n",
            "UKJobs | unhappy at work: 106it [00:21,  4.99it/s]\n",
            "UKJobs | stressful job: 243it [03:32,  1.14it/s]\n",
            "UKJobs | poor management: 215it [00:52,  4.09it/s]\n",
            "UKJobs | burnt out: 181it [00:54,  3.35it/s]\n",
            "UKJobs | miserable at work: 118it [00:24,  4.83it/s]\n",
            "UKJobs | dead-end job: 201it [00:39,  5.12it/s]\n",
            "UKJobs | exploited at work: 20it [00:03,  5.22it/s]\n",
            "UKJobs | no work-life balance: 130it [00:29,  4.40it/s]\n",
            "UKJobs | hate going to work: 245it [04:33,  1.12s/it]\n",
            "UKJobs | rejection: 237it [04:07,  1.04s/it]\n",
            "UKJobs | really bad: 231it [02:24,  1.60it/s]\n",
            "UKJobs | unreasonable: 116it [00:27,  4.25it/s]\n",
            "UKJobs | management cuts benefits: 239it [02:25,  1.64it/s]\n",
            "AskUK | job dissatisfaction: 2it [00:00,  6.35it/s]\n",
            "AskUK | hate my job: 219it [01:06,  3.30it/s]\n",
            "AskUK | toxic workplace: 24it [00:09,  2.47it/s]\n",
            "AskUK | burnout: 53it [00:11,  4.52it/s]\n",
            "AskUK | overworked: 45it [00:06,  7.03it/s]\n",
            "AskUK | bad boss: 90it [00:08, 10.22it/s]\n",
            "AskUK | micromanagement: 26it [00:08,  3.14it/s]\n",
            "AskUK | low pay: 211it [01:10,  3.00it/s]\n",
            "AskUK | underpaid: 106it [00:20,  5.09it/s]\n",
            "AskUK | quit my job: 232it [02:39,  1.46it/s]\n",
            "AskUK | resign: 224it [00:30,  7.35it/s]\n",
            "AskUK | stress at work: 231it [01:18,  2.92it/s]\n",
            "AskUK | bullying at work: 93it [00:14,  6.60it/s]\n",
            "AskUK | zero hours: 183it [00:16, 11.12it/s]\n",
            "AskUK | unhappy at work: 58it [00:10,  5.63it/s]\n",
            "AskUK | stressful job: 227it [01:42,  2.21it/s]\n",
            "AskUK | poor management: 158it [00:28,  5.45it/s]\n",
            "AskUK | burnt out: 119it [00:29,  4.04it/s]\n",
            "AskUK | miserable at work: 84it [00:18,  4.64it/s]\n",
            "AskUK | dead-end job: 80it [00:06, 12.96it/s]\n",
            "AskUK | exploited at work: 14it [00:03,  4.24it/s]\n",
            "AskUK | no work-life balance: 49it [00:10,  4.59it/s]\n",
            "AskUK | hate going to work: 241it [05:02,  1.26s/it]\n",
            "AskUK | rejection: 237it [01:43,  2.30it/s]\n",
            "AskUK | really bad: 240it [05:04,  1.27s/it]\n",
            "AskUK | unreasonable: 226it [01:00,  3.74it/s]\n",
            "AskUK | management cuts benefits: 219it [00:58,  3.74it/s]\n",
            "CasualUK | job dissatisfaction: 0it [00:00, ?it/s]\n",
            "CasualUK | hate my job: 79it [00:08,  9.11it/s]\n",
            "CasualUK | toxic workplace: 1it [00:00,  3.07it/s]\n",
            "CasualUK | burnout: 8it [00:04,  1.90it/s]\n",
            "CasualUK | overworked: 13it [00:00, 27.36it/s]\n",
            "CasualUK | bad boss: 20it [00:02,  9.04it/s]\n",
            "CasualUK | micromanagement: 3it [00:00,  4.94it/s]\n",
            "CasualUK | low pay: 35it [00:01, 32.91it/s]\n",
            "CasualUK | underpaid: 11it [00:00, 25.60it/s]\n",
            "CasualUK | quit my job: 162it [00:13, 12.09it/s]\n",
            "CasualUK | resign: 44it [00:04, 10.17it/s]\n",
            "CasualUK | stress at work: 101it [00:04, 22.88it/s]\n",
            "CasualUK | bullying at work: 12it [00:00, 18.65it/s]\n",
            "CasualUK | zero hours: 31it [00:05,  5.94it/s]\n",
            "CasualUK | unhappy at work: 7it [00:00, 17.22it/s]\n",
            "CasualUK | stressful job: 72it [00:04, 14.77it/s]\n",
            "CasualUK | poor management: 53it [00:05, 10.44it/s]\n",
            "CasualUK | burnt out: 42it [00:02, 14.61it/s]\n",
            "CasualUK | miserable at work: 21it [00:02,  7.80it/s]\n",
            "CasualUK | dead-end job: 16it [00:02,  7.06it/s]\n",
            "CasualUK | exploited at work: 4it [00:00,  7.12it/s]\n",
            "CasualUK | no work-life balance: 10it [00:00, 16.15it/s]\n",
            "CasualUK | hate going to work: 243it [03:11,  1.27it/s]\n",
            "CasualUK | rejection: 132it [00:12, 10.80it/s]\n",
            "CasualUK | really bad: 214it [00:33,  6.37it/s]\n",
            "CasualUK | unreasonable: 77it [00:04, 17.79it/s]\n",
            "CasualUK | management cuts benefits: 68it [00:02, 23.46it/s]\n",
            "unitedkingdom | job dissatisfaction: 0it [00:00, ?it/s]\n",
            "unitedkingdom | hate my job: 61it [00:01, 45.85it/s]\n",
            "unitedkingdom | toxic workplace: 2it [00:00,  6.32it/s]\n",
            "unitedkingdom | burnout: 17it [00:00, 33.57it/s]\n",
            "unitedkingdom | overworked: 10it [00:00, 22.78it/s]\n",
            "unitedkingdom | bad boss: 19it [00:00, 28.23it/s]\n",
            "unitedkingdom | micromanagement: 2it [00:00,  5.52it/s]\n",
            "unitedkingdom | low pay: 198it [00:16, 11.86it/s]\n",
            "unitedkingdom | underpaid: 25it [00:03,  7.83it/s]\n",
            "unitedkingdom | quit my job: 164it [00:09, 17.63it/s]\n",
            "unitedkingdom | resign: 243it [00:45,  5.35it/s]\n",
            "unitedkingdom | stress at work: 81it [00:02, 28.56it/s]\n",
            "unitedkingdom | bullying at work: 30it [00:02, 10.23it/s]\n",
            "unitedkingdom | zero hours: 164it [00:05, 32.24it/s]\n",
            "unitedkingdom | unhappy at work: 15it [00:03,  4.34it/s]\n",
            "unitedkingdom | stressful job: 63it [00:01, 36.73it/s]\n",
            "unitedkingdom | poor management: 50it [00:01, 32.30it/s]\n",
            "unitedkingdom | burnt out: 18it [00:01, 12.48it/s]\n",
            "unitedkingdom | miserable at work: 16it [00:00, 17.53it/s]\n",
            "unitedkingdom | dead-end job: 24it [00:02, 11.09it/s]\n",
            "unitedkingdom | exploited at work: 46it [00:10,  4.39it/s]\n",
            "unitedkingdom | no work-life balance: 16it [00:04,  3.25it/s]\n",
            "unitedkingdom | hate going to work: 218it [00:20, 10.39it/s]\n",
            "unitedkingdom | rejection: 231it [00:59,  3.85it/s]\n",
            "unitedkingdom | really bad: 205it [00:05, 39.79it/s]\n",
            "unitedkingdom | unreasonable: 69it [00:03, 20.96it/s]\n",
            "unitedkingdom | management cuts benefits: 237it [00:46,  5.15it/s]\n",
            "antiwork | job dissatisfaction: 56it [00:01, 54.16it/s]\n",
            "antiwork | hate my job: 244it [00:09, 25.57it/s]\n",
            "antiwork | toxic workplace: 227it [00:04, 46.57it/s]\n",
            "antiwork | burnout: 231it [00:05, 44.22it/s]\n",
            "antiwork | overworked: 229it [00:05, 40.04it/s]\n",
            "antiwork | bad boss: 239it [00:05, 42.71it/s]\n",
            "antiwork | micromanagement: 234it [00:05, 41.04it/s]\n",
            "antiwork | low pay: 225it [00:07, 28.26it/s]\n",
            "antiwork | underpaid: 238it [00:06, 35.42it/s]\n",
            "antiwork | quit my job: 242it [00:07, 31.09it/s]\n",
            "antiwork | resign: 242it [00:06, 36.51it/s]\n",
            "antiwork | stress at work: 231it [00:11, 20.57it/s]\n",
            "antiwork | bullying at work: 228it [00:06, 36.40it/s]\n",
            "antiwork | zero hours: 234it [00:07, 32.41it/s]\n",
            "antiwork | unhappy at work: 235it [00:05, 44.10it/s]\n",
            "antiwork | stressful job: 235it [00:10, 22.13it/s]\n",
            "antiwork | poor management: 235it [00:05, 40.49it/s]\n",
            "antiwork | burnt out: 226it [00:07, 30.44it/s]\n",
            "antiwork | miserable at work: 237it [00:04, 53.75it/s]\n",
            "antiwork | dead-end job: 226it [00:04, 45.95it/s]\n",
            "antiwork | exploited at work: 220it [00:03, 55.68it/s]\n",
            "antiwork | no work-life balance: 222it [00:05, 43.26it/s]\n",
            "antiwork | hate going to work: 245it [00:10, 23.49it/s]\n",
            "antiwork | rejection: 239it [00:09, 25.17it/s]\n",
            "antiwork | really bad: 240it [00:09, 25.49it/s]\n",
            "antiwork | unreasonable: 221it [00:05, 40.61it/s]\n",
            "antiwork | management cuts benefits: 238it [00:08, 28.20it/s]\n",
            "WorkReform | job dissatisfaction: 6it [00:00, 11.49it/s]\n",
            "WorkReform | hate my job: 192it [00:03, 59.61it/s]\n",
            "WorkReform | toxic workplace: 37it [00:00, 41.79it/s]\n",
            "WorkReform | burnout: 97it [00:02, 38.57it/s]\n",
            "WorkReform | overworked: 143it [00:02, 51.66it/s]\n",
            "WorkReform | bad boss: 192it [00:03, 54.65it/s]\n",
            "WorkReform | micromanagement: 80it [00:01, 53.74it/s]\n",
            "WorkReform | low pay: 228it [00:04, 49.24it/s]\n",
            "WorkReform | underpaid: 159it [00:03, 49.38it/s]\n",
            "WorkReform | quit my job: 223it [00:04, 48.01it/s]\n",
            "WorkReform | resign: 225it [00:05, 37.94it/s]\n",
            "WorkReform | stress at work: 222it [00:05, 39.58it/s]\n",
            "WorkReform | bullying at work: 38it [00:00, 45.36it/s]\n",
            "WorkReform | zero hours: 63it [00:01, 52.23it/s]\n",
            "WorkReform | unhappy at work: 36it [00:00, 41.55it/s]\n",
            "WorkReform | stressful job: 223it [00:04, 46.50it/s]\n",
            "WorkReform | poor management: 112it [00:02, 42.99it/s]\n",
            "WorkReform | burnt out: 89it [00:01, 56.49it/s]\n",
            "WorkReform | miserable at work: 38it [00:00, 56.40it/s]\n",
            "WorkReform | dead-end job: 30it [00:00, 48.71it/s]\n",
            "WorkReform | exploited at work: 176it [00:04, 35.97it/s]\n",
            "WorkReform | no work-life balance: 75it [00:01, 62.54it/s]\n",
            "WorkReform | hate going to work: 239it [00:08, 28.66it/s]\n",
            "WorkReform | rejection: 179it [00:04, 39.44it/s]\n",
            "WorkReform | really bad: 223it [00:04, 52.33it/s]\n",
            "WorkReform | unreasonable: 56it [00:01, 54.21it/s]\n",
            "WorkReform | management cuts benefits: 230it [00:05, 41.83it/s]\n",
            "careerguidance | job dissatisfaction: 136it [00:02, 48.89it/s]\n",
            "careerguidance | hate my job: 247it [00:11, 21.53it/s]\n",
            "careerguidance | toxic workplace: 240it [00:04, 48.64it/s]\n",
            "careerguidance | burnout: 247it [00:17, 14.00it/s]\n",
            "careerguidance | overworked: 239it [00:08, 26.81it/s]\n",
            "careerguidance | bad boss: 239it [00:06, 37.41it/s]\n",
            "careerguidance | micromanagement: 240it [00:05, 41.75it/s]\n",
            "careerguidance | low pay: 249it [00:16, 15.41it/s]\n",
            "careerguidance | underpaid: 244it [00:20, 12.06it/s]\n",
            "careerguidance | quit my job: 249it [00:14, 16.98it/s]\n",
            "careerguidance | resign: 243it [00:11, 21.92it/s]\n",
            "careerguidance | stress at work: 247it [00:07, 31.17it/s]\n",
            "careerguidance | bullying at work: 233it [00:06, 34.46it/s]\n",
            "careerguidance | zero hours: 236it [00:04, 57.69it/s]\n",
            "careerguidance | unhappy at work: 239it [00:07, 32.59it/s]\n",
            "careerguidance | stressful job: 246it [00:10, 24.15it/s]\n",
            "careerguidance | poor management: 244it [00:16, 14.63it/s]\n",
            "careerguidance | burnt out: 244it [00:10, 22.93it/s]\n",
            "careerguidance | miserable at work: 243it [00:11, 20.56it/s]\n",
            "careerguidance | dead-end job: 238it [00:11, 20.55it/s]\n",
            "careerguidance | exploited at work: 166it [00:06, 23.94it/s]\n",
            "careerguidance | no work-life balance: 242it [00:15, 15.84it/s]\n",
            "careerguidance | hate going to work: 249it [00:17, 14.09it/s]\n",
            "careerguidance | rejection: 245it [00:15, 16.21it/s]\n",
            "careerguidance | really bad: 244it [00:14, 16.90it/s]\n",
            "careerguidance | unreasonable: 233it [00:06, 38.61it/s]\n",
            "careerguidance | management cuts benefits: 247it [00:16, 14.59it/s]\n",
            "AskHR | job dissatisfaction: 17it [00:01, 11.19it/s]\n",
            "AskHR | hate my job: 232it [00:06, 34.36it/s]\n",
            "AskHR | toxic workplace: 149it [00:02, 56.30it/s]\n",
            "AskHR | burnout: 93it [00:02, 42.39it/s]\n",
            "AskHR | overworked: 135it [00:03, 41.22it/s]\n",
            "AskHR | bad boss: 231it [00:04, 47.47it/s]\n",
            "AskHR | micromanagement: 225it [00:06, 37.21it/s]\n",
            "AskHR | low pay: 223it [00:07, 30.40it/s]\n",
            "AskHR | underpaid: 204it [00:03, 52.66it/s]\n",
            "AskHR | quit my job: 238it [00:14, 16.01it/s]\n",
            "AskHR | resign: 240it [00:12, 19.20it/s]\n",
            "AskHR | stress at work: 236it [00:16, 14.29it/s]\n",
            "AskHR | bullying at work: 229it [00:07, 31.64it/s]\n",
            "AskHR | zero hours: 126it [00:03, 37.24it/s]\n",
            "AskHR | unhappy at work: 143it [00:04, 31.14it/s]\n",
            "AskHR | stressful job: 233it [00:15, 14.58it/s]\n",
            "AskHR | poor management: 239it [00:10, 23.36it/s]\n",
            "AskHR | burnt out: 115it [00:02, 54.15it/s]\n",
            "AskHR | miserable at work: 143it [00:02, 57.36it/s]\n",
            "AskHR | dead-end job: 50it [00:01, 42.02it/s]\n",
            "AskHR | exploited at work: 19it [00:00, 45.07it/s]\n",
            "AskHR | no work-life balance: 83it [00:01, 57.06it/s]\n",
            "AskHR | hate going to work: 243it [00:17, 13.75it/s]\n",
            "AskHR | rejection: 235it [00:07, 29.48it/s]\n",
            "AskHR | really bad: 237it [00:10, 22.83it/s]\n",
            "AskHR | unreasonable: 228it [00:09, 24.61it/s]\n",
            "AskHR | management cuts benefits: 239it [00:11, 21.39it/s]\n",
            "britishproblems | job dissatisfaction: 0it [00:00, ?it/s]\n",
            "britishproblems | hate my job: 23it [00:00, 46.65it/s]\n",
            "britishproblems | toxic workplace: 1it [00:00,  3.24it/s]\n",
            "britishproblems | burnout: 6it [00:00, 16.90it/s]\n",
            "britishproblems | overworked: 19it [00:00, 39.97it/s]\n",
            "britishproblems | bad boss: 10it [00:01,  6.64it/s]\n",
            "britishproblems | micromanagement: 3it [00:00,  9.23it/s]\n",
            "britishproblems | low pay: 34it [00:03, 10.87it/s]\n",
            "britishproblems | underpaid: 18it [00:00, 37.68it/s]\n",
            "britishproblems | quit my job: 44it [00:00, 53.83it/s]\n",
            "britishproblems | resign: 80it [00:02, 34.02it/s]\n",
            "britishproblems | stress at work: 21it [00:00, 33.22it/s]\n",
            "britishproblems | bullying at work: 3it [00:00,  9.23it/s]\n",
            "britishproblems | zero hours: 22it [00:02,  9.37it/s]\n",
            "britishproblems | unhappy at work: 4it [00:00, 11.60it/s]\n",
            "britishproblems | stressful job: 18it [00:00, 28.52it/s]\n",
            "britishproblems | poor management: 17it [00:02,  5.97it/s]\n",
            "britishproblems | burnt out: 30it [00:01, 16.71it/s]\n",
            "britishproblems | miserable at work: 9it [00:01,  6.69it/s]\n",
            "britishproblems | dead-end job: 1it [00:00,  3.19it/s]\n",
            "britishproblems | exploited at work: 0it [00:00, ?it/s]\n",
            "britishproblems | no work-life balance: 0it [00:00, ?it/s]\n",
            "britishproblems | hate going to work: 230it [00:43,  5.33it/s]\n",
            "britishproblems | rejection: 168it [00:04, 39.81it/s]\n",
            "britishproblems | really bad: 204it [00:09, 21.64it/s]\n",
            "britishproblems | unreasonable: 63it [00:03, 16.74it/s]\n",
            "britishproblems | management cuts benefits: 38it [00:00, 50.08it/s]\n",
            "recruitinghell | job dissatisfaction: 6it [00:00, 15.69it/s]\n",
            "recruitinghell | hate my job: 237it [00:06, 38.05it/s]\n",
            "recruitinghell | toxic workplace: 103it [00:02, 48.69it/s]\n",
            "recruitinghell | burnout: 123it [00:02, 53.56it/s]\n",
            "recruitinghell | overworked: 149it [00:02, 54.32it/s]\n",
            "recruitinghell | bad boss: 232it [00:04, 53.92it/s]\n",
            "recruitinghell | micromanagement: 162it [00:02, 54.78it/s]\n",
            "recruitinghell | low pay: 239it [00:10, 21.83it/s]\n",
            "recruitinghell | underpaid: 184it [00:06, 26.88it/s]\n",
            "recruitinghell | quit my job: 244it [00:08, 28.03it/s]\n",
            "recruitinghell | resign: 241it [00:06, 37.97it/s]\n",
            "recruitinghell | stress at work: 230it [00:06, 35.97it/s]\n",
            "recruitinghell | bullying at work: 53it [00:01, 38.23it/s]\n",
            "recruitinghell | zero hours: 214it [00:07, 28.98it/s]\n",
            "recruitinghell | unhappy at work: 56it [00:01, 42.76it/s]\n",
            "recruitinghell | stressful job: 243it [00:08, 27.81it/s]\n",
            "recruitinghell | poor management: 230it [00:05, 39.16it/s]\n",
            "recruitinghell | burnt out: 222it [00:04, 53.80it/s]\n",
            "recruitinghell | miserable at work: 122it [00:02, 49.75it/s]\n",
            "recruitinghell | dead-end job: 215it [00:06, 35.54it/s]\n",
            "recruitinghell | exploited at work: 80it [00:01, 50.21it/s]\n",
            "recruitinghell | no work-life balance: 150it [00:03, 48.17it/s]\n",
            "recruitinghell | hate going to work: 244it [00:08, 28.72it/s]\n",
            "recruitinghell | rejection: 247it [00:08, 28.23it/s]\n",
            "recruitinghell | really bad: 241it [00:06, 34.62it/s]\n",
            "recruitinghell | unreasonable: 198it [00:06, 31.24it/s]\n",
            "recruitinghell | management cuts benefits: 240it [00:09, 25.67it/s]\n",
            "WorkReformUK | job dissatisfaction: 0it [00:00, ?it/s]\n",
            "WorkReformUK | hate my job: 0it [00:00, ?it/s]\n",
            "WorkReformUK | toxic workplace: 0it [00:00, ?it/s]\n",
            "WorkReformUK | burnout: 0it [00:00, ?it/s]\n",
            "WorkReformUK | overworked: 0it [00:00, ?it/s]\n",
            "WorkReformUK | bad boss: 0it [00:00, ?it/s]\n",
            "WorkReformUK | micromanagement: 0it [00:00, ?it/s]\n",
            "WorkReformUK | low pay: 0it [00:00, ?it/s]\n",
            "WorkReformUK | underpaid: 1it [00:00,  3.16it/s]\n",
            "WorkReformUK | quit my job: 0it [00:00, ?it/s]\n",
            "WorkReformUK | resign: 1it [00:00,  3.20it/s]\n",
            "WorkReformUK | stress at work: 0it [00:00, ?it/s]\n",
            "WorkReformUK | bullying at work: 0it [00:00, ?it/s]\n",
            "WorkReformUK | zero hours: 0it [00:00, ?it/s]\n",
            "WorkReformUK | unhappy at work: 0it [00:00, ?it/s]\n",
            "WorkReformUK | stressful job: 1it [00:00,  3.29it/s]\n",
            "WorkReformUK | poor management: 0it [00:00, ?it/s]\n",
            "WorkReformUK | burnt out: 0it [00:00, ?it/s]\n",
            "WorkReformUK | miserable at work: 0it [00:00, ?it/s]\n",
            "WorkReformUK | dead-end job: 0it [00:00, ?it/s]\n",
            "WorkReformUK | exploited at work: 0it [00:00, ?it/s]\n",
            "WorkReformUK | no work-life balance: 0it [00:00, ?it/s]\n",
            "WorkReformUK | hate going to work: 0it [00:00, ?it/s]\n",
            "WorkReformUK | rejection: 1it [00:00,  3.21it/s]\n",
            "WorkReformUK | really bad: 0it [00:00, ?it/s]\n",
            "WorkReformUK | unreasonable: 0it [00:00, ?it/s]\n",
            "WorkReformUK | management cuts benefits: 0it [00:00, ?it/s]\n",
            "UKJobs | love my job: 243it [04:12,  1.04s/it]\n",
            "UKJobs | happy at work: 244it [02:32,  1.60it/s]\n",
            "UKJobs | good boss: 222it [01:07,  3.29it/s]\n",
            "UKJobs | great team: 235it [01:25,  2.74it/s]\n",
            "UKJobs | work life balance: 241it [04:29,  1.12s/it]\n",
            "UKJobs | supportive manager: 239it [02:45,  1.44it/s]\n",
            "UKJobs | flexible working: 238it [02:08,  1.86it/s]\n",
            "UKJobs | fair pay: 230it [01:39,  2.32it/s]\n",
            "AskUK | love my job: 237it [02:59,  1.32it/s]\n",
            "AskUK | happy at work: 227it [01:48,  2.10it/s]\n",
            "AskUK | good boss: 182it [00:28,  6.29it/s]\n",
            "AskUK | great team: 178it [00:31,  5.71it/s]\n",
            "AskUK | work life balance: 61it [01:28,  1.16s/it]WARNING:prawcore:Retrying due to 500 status: GET https://oauth.reddit.com/comments/1n5jzpk/\n",
            "AskUK | work life balance: 244it [06:12,  1.53s/it]\n",
            "AskUK | supportive manager: 234it [00:57,  4.04it/s]\n",
            "AskUK | flexible working: 226it [01:06,  3.40it/s]\n",
            "AskUK | fair pay: 229it [01:25,  2.69it/s]\n",
            "CasualUK | love my job: 202it [00:30,  6.56it/s]\n",
            "CasualUK | happy at work: 211it [00:13, 15.41it/s]\n",
            "CasualUK | good boss: 41it [00:03, 10.65it/s]\n",
            "CasualUK | great team: 95it [00:05, 16.93it/s]\n",
            "CasualUK | work life balance: 223it [00:46,  4.80it/s]\n",
            "CasualUK | supportive manager: 55it [00:01, 41.52it/s]\n",
            "CasualUK | flexible working: 19it [00:00, 33.49it/s]\n",
            "CasualUK | fair pay: 84it [00:12,  6.89it/s]\n",
            "unitedkingdom | love my job: 124it [00:04, 28.21it/s]\n",
            "unitedkingdom | happy at work: 149it [00:09, 16.36it/s]\n",
            "unitedkingdom | good boss: 33it [00:01, 21.52it/s]\n",
            "unitedkingdom | great team: 74it [00:03, 20.11it/s]\n",
            "unitedkingdom | work life balance: 222it [00:26,  8.38it/s]\n",
            "unitedkingdom | supportive manager: 141it [00:09, 14.93it/s]\n",
            "unitedkingdom | flexible working: 84it [00:02, 28.98it/s]\n",
            "unitedkingdom | fair pay: 169it [00:13, 12.55it/s]\n",
            "antiwork | love my job: 238it [00:06, 38.26it/s]\n",
            "antiwork | happy at work: 240it [00:09, 25.61it/s]\n",
            "antiwork | good boss: 237it [00:07, 30.14it/s]\n",
            "antiwork | great team: 235it [00:06, 38.09it/s]\n",
            "antiwork | work life balance: 242it [00:08, 29.13it/s]\n",
            "antiwork | supportive manager: 236it [00:08, 29.27it/s]\n",
            "antiwork | flexible working: 240it [00:11, 21.20it/s]\n",
            "antiwork | fair pay: 238it [00:08, 26.73it/s]\n",
            "WorkReform | love my job: 229it [00:04, 50.28it/s]\n",
            "WorkReform | happy at work: 229it [00:04, 50.68it/s]\n",
            "WorkReform | good boss: 224it [00:04, 53.80it/s]\n",
            "WorkReform | great team: 110it [00:02, 45.47it/s]\n",
            "WorkReform | work life balance: 235it [00:04, 48.06it/s]\n",
            "WorkReform | supportive manager: 233it [00:05, 41.41it/s]\n",
            "WorkReform | flexible working: 128it [00:03, 34.62it/s]\n",
            "WorkReform | fair pay: 231it [00:05, 44.38it/s]\n",
            "careerguidance | love my job: 247it [00:18, 13.46it/s]\n",
            "careerguidance | happy at work: 244it [00:14, 16.84it/s]\n",
            "careerguidance | good boss: 244it [00:09, 24.48it/s]\n",
            "careerguidance | great team: 245it [00:14, 16.43it/s]\n",
            "careerguidance | work life balance: 249it [00:18, 13.41it/s]\n",
            "careerguidance | supportive manager: 243it [00:13, 17.41it/s]\n",
            "careerguidance | flexible working: 250it [00:14, 16.84it/s]\n",
            "careerguidance | fair pay: 243it [00:20, 12.05it/s]\n",
            "AskHR | love my job: 237it [00:16, 14.51it/s]\n",
            "AskHR | happy at work: 239it [00:09, 24.08it/s]\n",
            "AskHR | good boss: 237it [00:06, 36.00it/s]\n",
            "AskHR | great team: 235it [00:06, 36.52it/s]\n",
            "AskHR | work life balance: 241it [00:15, 15.90it/s]\n",
            "AskHR | supportive manager: 234it [00:23,  9.77it/s]\n",
            "AskHR | flexible working: 239it [00:08, 27.94it/s]\n",
            "AskHR | fair pay: 235it [00:06, 36.51it/s]\n",
            "britishproblems | love my job: 38it [00:01, 22.46it/s]\n",
            "britishproblems | happy at work: 66it [00:04, 14.27it/s]\n",
            "britishproblems | good boss: 20it [00:00, 43.51it/s]\n",
            "britishproblems | great team: 25it [00:02,  9.04it/s]\n",
            "britishproblems | work life balance: 208it [00:10, 19.17it/s]\n",
            "britishproblems | supportive manager: 8it [00:01,  4.15it/s]\n",
            "britishproblems | flexible working: 10it [00:05,  1.72it/s]\n",
            "britishproblems | fair pay: 48it [00:02, 21.17it/s]\n",
            "recruitinghell | love my job: 241it [00:12, 19.54it/s]\n",
            "recruitinghell | happy at work: 238it [00:14, 16.37it/s]\n",
            "recruitinghell | good boss: 243it [00:04, 56.02it/s]\n",
            "recruitinghell | great team: 246it [00:08, 28.83it/s]\n",
            "recruitinghell | work life balance: 237it [00:13, 17.46it/s]\n",
            "recruitinghell | supportive manager: 247it [00:11, 20.72it/s]\n",
            "recruitinghell | flexible working: 247it [00:08, 29.89it/s]\n",
            "recruitinghell | fair pay: 227it [00:05, 43.97it/s]\n",
            "WorkReformUK | love my job: 0it [00:00, ?it/s]\n",
            "WorkReformUK | happy at work: 0it [00:00, ?it/s]\n",
            "WorkReformUK | good boss: 0it [00:00, ?it/s]\n",
            "WorkReformUK | great team: 0it [00:00, ?it/s]\n",
            "WorkReformUK | work life balance: 3it [00:00,  9.44it/s]\n",
            "WorkReformUK | supportive manager: 1it [00:00,  3.16it/s]\n",
            "WorkReformUK | flexible working: 0it [00:00, ?it/s]\n",
            "WorkReformUK | fair pay: 0it [00:00, ?it/s]\n"
          ]
        },
        {
          "output_type": "stream",
          "name": "stdout",
          "text": [
            "Saved data/reddit_posts_uk_jobs.csv and data/reddit_comments_uk_jobs.csv\n"
          ]
        }
      ],
      "source": [
        "if __name__ == \"__main__\":\n",
        "    posts_diss, comments_diss = search_and_collect(DISSATISFACTION_TERMS, \"dissatisfaction\")\n",
        "    posts_sat,  comments_sat  = search_and_collect(SATISFACTION_TERMS, \"satisfaction\")\n",
        "\n",
        "    # Combine & de-duplicate by id\n",
        "    posts = pd.concat([posts_diss, posts_sat], ignore_index=True)\n",
        "    posts = posts.drop_duplicates(subset=[\"id\"])\n",
        "    comments = pd.concat([comments_diss, comments_sat], ignore_index=True)\n",
        "    comments = comments.drop_duplicates(subset=[\"comment_id\"])\n",
        "\n",
        "    # Save\n",
        "    os.makedirs(\"data\", exist_ok=True)\n",
        "    posts.to_csv(\"data/reddit_posts_uk_jobs.csv\", index=False)\n",
        "    comments.to_csv(\"data/reddit_comments_uk_jobs.csv\", index=False)\n",
        "\n",
        "    print(\"Saved data/reddit_posts_uk_jobs.csv and data/reddit_comments_uk_jobs.csv\")"
      ]
    },
    {
      "cell_type": "code",
      "execution_count": 22,
      "metadata": {
        "colab": {
          "base_uri": "https://localhost:8080/"
        },
        "id": "M0RDVuL83sRa",
        "outputId": "c8f60605-9c02-4258-d251-81b989f083ff"
      },
      "outputs": [
        {
          "output_type": "stream",
          "name": "stdout",
          "text": [
            "Posts: (3718, 14)\n",
            "Comments: (41318, 11)\n"
          ]
        }
      ],
      "source": [
        "posts = pd.read_csv(\"data/reddit_posts_uk_jobs.csv\")\n",
        "comments = pd.read_csv(\"data/reddit_comments_uk_jobs.csv\")\n",
        "\n",
        "print(\"Posts:\", posts.shape)\n",
        "print(\"Comments:\", comments.shape)"
      ]
    },
    {
      "cell_type": "code",
      "execution_count": 23,
      "metadata": {
        "colab": {
          "base_uri": "https://localhost:8080/"
        },
        "id": "-1txpvdDajvW",
        "outputId": "e8c48662-6f49-44f1-92a7-1b3ad04a161a"
      },
      "outputs": [
        {
          "output_type": "stream",
          "name": "stderr",
          "text": [
            "[nltk_data] Downloading package stopwords to /root/nltk_data...\n",
            "[nltk_data]   Unzipping corpora/stopwords.zip.\n"
          ]
        },
        {
          "output_type": "stream",
          "name": "stdout",
          "text": [
            "Cleaned & lemmatized posts and comments\n"
          ]
        }
      ],
      "source": [
        "import re, emoji, nltk, spacy\n",
        "from nltk.corpus import stopwords\n",
        "\n",
        "nltk.download(\"stopwords\")\n",
        "EN_STOP = set(stopwords.words(\"english\"))\n",
        "nlp = spacy.load(\"en_core_web_sm\", exclude=[\"ner\",\"parser\",\"textcat\"])\n",
        "\n",
        "# cleaning helpers\n",
        "def clean_text(text):\n",
        "    if not isinstance(text, str):\n",
        "        return \"\"\n",
        "    text = text.lower()\n",
        "    text = emoji.replace_emoji(text, replace=\" \")   # remove emojis\n",
        "    text = re.sub(r\"http\\S+|www\\.\\S+\", \" \", text)  # remove URLs\n",
        "    text = re.sub(r\"[^\\w\\s']\", \" \", text)          # remove punctuation\n",
        "    text = re.sub(r\"\\s+\", \" \", text).strip()\n",
        "    return text\n",
        "\n",
        "def lemmatize(text):\n",
        "    doc = nlp(text)\n",
        "    return \" \".join(\n",
        "        tok.lemma_ for tok in doc\n",
        "        if tok.lemma_ not in EN_STOP and tok.is_alpha\n",
        "    )\n",
        "\n",
        "# posts: combine title + selftext\n",
        "posts[\"title\"] = posts[\"title\"].fillna(\"\")\n",
        "posts[\"selftext\"] = posts[\"selftext\"].fillna(\"\")\n",
        "posts[\"text_raw\"] = (posts[\"title\"] + \" \" + posts[\"selftext\"]).str.strip()\n",
        "posts[\"text_clean\"] = posts[\"text_raw\"].apply(clean_text)\n",
        "posts[\"text_lemma\"] = posts[\"text_clean\"].apply(lemmatize)\n",
        "\n",
        "# comments: use body\n",
        "comments[\"body\"] = comments[\"body\"].fillna(\"\")\n",
        "comments[\"text_raw\"] = comments[\"body\"]\n",
        "comments[\"text_clean\"] = comments[\"text_raw\"].apply(clean_text)\n",
        "comments[\"text_lemma\"] = comments[\"text_clean\"].apply(lemmatize)\n",
        "\n",
        "print(\"Cleaned & lemmatized posts and comments\")\n"
      ]
    },
    {
      "cell_type": "code",
      "execution_count": null,
      "metadata": {
        "colab": {
          "base_uri": "https://localhost:8080/",
          "height": 420,
          "referenced_widgets": [
            "2e1e3b02826242ab83f033609c8589d3",
            "fa384104ae9449a89ec939479f506353",
            "d8cf59d7300b4589a452d6ecd7dd4bd3",
            "f0e4e895563748afb2c10855c203b9c6",
            "88dc167d7da9423585fc263d11ba7f0c",
            "3d95dde4c0164d45a815e38cfdcb495d",
            "67693e15d671468e89afff7115586c40",
            "03708765578c40f587e7aa877d9ca8c2",
            "82acf7786c734610bc0e922154e2bcba",
            "e1c6a151263d40e2a9f6be3ecf735e00",
            "8487023d574946f4919976eafd0aa53b",
            "d239231cb42d47a392feeab2658e8288",
            "51fb7115eccb403c824213d0fdd782e0",
            "5f6b88e022654d1ab820466f3ab12c98",
            "8719031b824b44728012ba7ce7b19557",
            "641a09ee037f4861ac7b832e781f8594",
            "74371ce3837a49e19c5193cec03ff48d",
            "9604e7ce500545929278975ab4185d12",
            "7bd06f505e33489d962bb2e4b180c1aa",
            "dbddaa8733464e42818042f77225e3ae",
            "ecfa17e7413a44d1b105c0f1c776df1e",
            "8b3de3ae65b34a8ba197d783d9add535",
            "5ab3edfb32c74ac9a0189fe9be7f1043",
            "25fa2c9ee25a4cb88d9a800e6ade7fcb",
            "790a54d8a6c54a3392f25da31d5c6913",
            "6d991392ac514bc682f91b6023085008",
            "d5a1a62f4a0f406f9a4b310792c47c06",
            "f6cda1af76744ef4876d4990616554af",
            "3a137f5a70884dec843bea718f27fe3b",
            "8eb519ce3a3547c782d0fd2b95c895b5",
            "073fdec784c148d4abfcfebaa71bd408",
            "cf12f48a79984e6f8f3fb0de6ef9aeb4",
            "6f4d6c34480f4e79b152f11979f64cdc",
            "02fc60fb330d4d28a9581bd95823eb1f",
            "c0c359b7f7754bbebd39d1fd9885c8c0",
            "bf9ceb92c3ef40cfa2d988fd4e632a44",
            "34e718bc949646708164091da7316387",
            "4747ac1ed54a4d868f26725f18a2d01e",
            "e29d3b4f13884d9d9fad8cc935cbb422",
            "36d630ef124c449d8350bf12b90f7f58",
            "9d163248e95141148dbe477e6d452ecf",
            "9220ced09b45412fb56d2c4e82b1dbc0",
            "c2ef630190bc47f0b874ff1965fec86c",
            "dc7f70e16bb04ae2bbcb70fe8dc8c704",
            "2b19ee562b544aa28a01c10ea217478f",
            "be98130df8fb4c7a8b603d07c9be505f",
            "6a2b02f6b1154c7cae69263afc34da85",
            "cb284a1489954c0f9d8dfb1bec40884b",
            "f0e983dc689c47f79b005ce813019888",
            "713d079fd4484eb9a4f74e02a6e2c690",
            "cefc228978d94aec98f8ce3568d9ebf3",
            "72264cc20e734d5d9edec505bf7ec8fb",
            "e664afc4a32148ccab77b31ad89e1725",
            "577f5d1185f94693ac2568b292a59ae9",
            "ea464a0ee52c4055b726fcb24dd62a6a",
            "7858fcfe275f421e8fc9360d57111a41",
            "71c3b3e49f1c4ca88fbfd4421e037db9",
            "c3a979675cf748be949c4661887ddc29",
            "13f4f8dcd19545eea5525203f19ba45a",
            "3dd9a6e4cea944748005919a578d9ade",
            "75509a332e5c40cca9da42dba6f66ac0",
            "ed949933da6c4a56a225a622be0a6f44",
            "233ac32244084615911316cd140633d4",
            "6e9c47b3996f483ba087029aa1ac58ab",
            "137f409c9c10470980d4dce1edec01b0",
            "b2be688eb1ee48a1bd7ad765c1c0946f"
          ]
        },
        "id": "KcfQ8BWAaqLW",
        "outputId": "2f7283bf-8012-4559-fd9d-58751f7570f4"
      },
      "outputs": [
        {
          "metadata": {
            "tags": null
          },
          "name": "stderr",
          "output_type": "stream",
          "text": [
            "/usr/local/lib/python3.12/dist-packages/huggingface_hub/utils/_auth.py:104: UserWarning: \n",
            "Error while fetching `HF_TOKEN` secret value from your vault: 'Requesting secret HF_TOKEN timed out. Secrets can only be fetched when running from the Colab UI.'.\n",
            "You are not authenticated with the Hugging Face Hub in this notebook.\n",
            "If the error persists, please let us know by opening an issue on GitHub (https://github.com/huggingface/huggingface_hub/issues/new).\n",
            "  warnings.warn(\n"
          ]
        },
        {
          "data": {
            "application/vnd.jupyter.widget-view+json": {
              "model_id": "2e1e3b02826242ab83f033609c8589d3",
              "version_major": 2,
              "version_minor": 0
            },
            "text/plain": [
              "config.json:   0%|          | 0.00/929 [00:00<?, ?B/s]"
            ]
          },
          "metadata": {},
          "output_type": "display_data"
        },
        {
          "data": {
            "application/vnd.jupyter.widget-view+json": {
              "model_id": "d239231cb42d47a392feeab2658e8288",
              "version_major": 2,
              "version_minor": 0
            },
            "text/plain": [
              "vocab.json: 0.00B [00:00, ?B/s]"
            ]
          },
          "metadata": {},
          "output_type": "display_data"
        },
        {
          "data": {
            "application/vnd.jupyter.widget-view+json": {
              "model_id": "5ab3edfb32c74ac9a0189fe9be7f1043",
              "version_major": 2,
              "version_minor": 0
            },
            "text/plain": [
              "merges.txt: 0.00B [00:00, ?B/s]"
            ]
          },
          "metadata": {},
          "output_type": "display_data"
        },
        {
          "data": {
            "application/vnd.jupyter.widget-view+json": {
              "model_id": "02fc60fb330d4d28a9581bd95823eb1f",
              "version_major": 2,
              "version_minor": 0
            },
            "text/plain": [
              "special_tokens_map.json:   0%|          | 0.00/239 [00:00<?, ?B/s]"
            ]
          },
          "metadata": {},
          "output_type": "display_data"
        },
        {
          "data": {
            "application/vnd.jupyter.widget-view+json": {
              "model_id": "2b19ee562b544aa28a01c10ea217478f",
              "version_major": 2,
              "version_minor": 0
            },
            "text/plain": [
              "pytorch_model.bin:   0%|          | 0.00/501M [00:00<?, ?B/s]"
            ]
          },
          "metadata": {},
          "output_type": "display_data"
        },
        {
          "metadata": {
            "tags": null
          },
          "name": "stderr",
          "output_type": "stream",
          "text": [
            "Some weights of the model checkpoint at cardiffnlp/twitter-roberta-base-sentiment-latest were not used when initializing RobertaForSequenceClassification: ['roberta.pooler.dense.bias', 'roberta.pooler.dense.weight']\n",
            "- This IS expected if you are initializing RobertaForSequenceClassification from the checkpoint of a model trained on another task or with another architecture (e.g. initializing a BertForSequenceClassification model from a BertForPreTraining model).\n",
            "- This IS NOT expected if you are initializing RobertaForSequenceClassification from the checkpoint of a model that you expect to be exactly identical (initializing a BertForSequenceClassification model from a BertForSequenceClassification model).\n",
            "Device set to use cpu\n",
            "/usr/local/lib/python3.12/dist-packages/transformers/pipelines/text_classification.py:111: UserWarning: `return_all_scores` is now deprecated,  if want a similar functionality use `top_k=None` instead of `return_all_scores=True` or `top_k=1` instead of `return_all_scores=False`.\n",
            "  warnings.warn(\n"
          ]
        },
        {
          "data": {
            "application/vnd.jupyter.widget-view+json": {
              "model_id": "7858fcfe275f421e8fc9360d57111a41",
              "version_major": 2,
              "version_minor": 0
            },
            "text/plain": [
              "model.safetensors:   0%|          | 0.00/501M [00:00<?, ?B/s]"
            ]
          },
          "metadata": {},
          "output_type": "display_data"
        }
      ],
      "source": [
        "import pandas as pd\n",
        "from transformers import AutoTokenizer, AutoModelForSequenceClassification, pipeline\n",
        "MODEL_NAME = \"cardiffnlp/twitter-roberta-base-sentiment-latest\"\n",
        "\n",
        "# Load tokenizer + model + pipeline\n",
        "tokenizer = AutoTokenizer.from_pretrained(MODEL_NAME)\n",
        "model = AutoModelForSequenceClassification.from_pretrained(MODEL_NAME)\n",
        "\n",
        "# We ask for all class scores so we can keep neg/neu/pos columns like VADER\n",
        "clf = pipeline(\n",
        "    task=\"sentiment-analysis\",\n",
        "    model=model,\n",
        "    tokenizer=tokenizer,\n",
        "    return_all_scores=True,      # gives probs for all three classes\n",
        "    truncation=True,\n",
        "    max_length=128,              # social posts are short; prevents very long inputs\n",
        ")\n",
        "\n",
        "def _batch_hf_sentiment(text_series: pd.Series, batch_size: int = 64) -> pd.DataFrame:\n",
        "    \"\"\"\n",
        "    Run HF sentiment in batches over a pandas Series of text and return\n",
        "    a DataFrame with columns: neg, neu, pos, sentiment (string label).\n",
        "    \"\"\"\n",
        "    # Ensure strings (empty string for NaNs)\n",
        "    text_series = text_series.fillna(\"\").astype(str)\n",
        "\n",
        "    # Run the pipeline on the full list (the pipeline batches internally)\n",
        "    outputs = clf(list(text_series), batch_size=batch_size)\n",
        "\n",
        "    rows = []\n",
        "    for scores in outputs:\n",
        "        # scores is a list like: [{'label': 'Negative', 'score': 0.05}, {'label': 'Neutral', ...}, {'label': 'Positive', ...}]\n",
        "        label_to_score = {d[\"label\"].lower(): float(d[\"score\"]) for d in scores}\n",
        "        # Argmax label (negative / neutral / positive)\n",
        "        top_label = max(label_to_score, key=label_to_score.get)\n",
        "\n",
        "        rows.append({\n",
        "            \"neg\": label_to_score.get(\"negative\"),\n",
        "            \"neu\": label_to_score.get(\"neutral\"),\n",
        "            \"pos\": label_to_score.get(\"positive\"),\n",
        "            \"sentiment\": top_label\n",
        "        })\n",
        "\n",
        "    return pd.DataFrame(rows, index=text_series.index)\n",
        "\n",
        "posts_scores = _batch_hf_sentiment(posts[\"text_clean\"])\n",
        "comments_scores = _batch_hf_sentiment(comments[\"text_clean\"])\n",
        "\n",
        "posts = pd.concat([posts, posts_scores], axis=1)\n",
        "comments = pd.concat([comments, comments_scores], axis=1)\n",
        "\n",
        "print(posts[[\"text_clean\", \"sentiment\"]].head())"
      ]
    },
    {
      "cell_type": "code",
      "execution_count": null,
      "metadata": {
        "id": "l9yRXCoadJxo"
      },
      "outputs": [],
      "source": [
        "display(comments)"
      ]
    },
    {
      "cell_type": "code",
      "execution_count": null,
      "metadata": {
        "id": "1w4TJdeodQiG"
      },
      "outputs": [],
      "source": [
        "posts[\"source\"] = \"post\"\n",
        "comments[\"source\"] = \"comment\""
      ]
    },
    {
      "cell_type": "code",
      "execution_count": null,
      "metadata": {
        "id": "QbrzKY13dXU3"
      },
      "outputs": [],
      "source": [
        "# For posts → combine title + selftext\n",
        "posts[\"title\"] = posts[\"title\"].fillna(\"\")\n",
        "posts[\"selftext\"] = posts[\"selftext\"].fillna(\"\")\n",
        "posts[\"text_raw\"] = (posts[\"title\"] + \" \" + posts[\"selftext\"]).str.strip()\n",
        "\n",
        "# For comments → use body\n",
        "comments[\"body\"] = comments[\"body\"].fillna(\"\")\n",
        "comments[\"text_raw\"] = comments[\"body\"]"
      ]
    },
    {
      "cell_type": "code",
      "execution_count": null,
      "metadata": {
        "id": "yk-dnLI8dadW"
      },
      "outputs": [],
      "source": [
        "# Columns to keep for posts\n",
        "posts_small = posts[[\n",
        "    \"id\",\"subreddit\",\"created_utc\",\"author\",\"text_raw\",\"score\",\n",
        "    \"query\",\"label\",\"source\",\"neg\",\"neu\",\"pos\",\"compound\",\"sentiment\",\"permalink\"\n",
        "]]\n",
        "\n",
        "# Columns to keep for comments (rename to match posts)\n",
        "comments_small = comments.rename(columns={\n",
        "    \"comment_id\": \"id\",\n",
        "    \"post_query\": \"query\",\n",
        "    \"post_label\": \"label\"\n",
        "})[[\n",
        "    \"id\",\"subreddit\",\"created_utc\",\"author\",\"text_raw\",\"score\",\n",
        "    \"query\",\"label\",\"source\",\"neg\",\"neu\",\"pos\",\"compound\",\"sentiment\",\"permalink\"\n",
        "]]\n"
      ]
    },
    {
      "cell_type": "code",
      "execution_count": null,
      "metadata": {
        "id": "PtcR4XYLddcF"
      },
      "outputs": [],
      "source": [
        "dataset = pd.concat([posts_small, comments_small], ignore_index=True)\n",
        "print(\"Combined dataset shape:\", dataset.shape)\n",
        "dataset.head()"
      ]
    },
    {
      "cell_type": "code",
      "execution_count": null,
      "metadata": {
        "id": "BeQd8SzA_kmN"
      },
      "outputs": [],
      "source": [
        "df_two = dataset.loc[:, dataset.columns == 'sentiment']"
      ]
    },
    {
      "cell_type": "code",
      "execution_count": null,
      "metadata": {
        "id": "mPE_I_xC_tMX"
      },
      "outputs": [],
      "source": [
        "df_two = dataset.loc[:, dataset.columns == 'sentiment'].copy()\n",
        "df_two.columns = [f\"sentiment_{i+1}\" for i in range(df_two.shape[1])]"
      ]
    },
    {
      "cell_type": "code",
      "execution_count": null,
      "metadata": {
        "id": "7oVS97rb_tJV"
      },
      "outputs": [],
      "source": [
        "df_two"
      ]
    },
    {
      "cell_type": "code",
      "execution_count": null,
      "metadata": {
        "id": "Ey4MoSbTCpdH"
      },
      "outputs": [],
      "source": [
        "dataset.to_csv('dataset.csv', index=False)"
      ]
    },
    {
      "cell_type": "code",
      "execution_count": null,
      "metadata": {
        "id": "27BAQJpY_tGW"
      },
      "outputs": [],
      "source": [
        "dataset = dataset.drop(columns=['sentiment'])"
      ]
    },
    {
      "cell_type": "code",
      "execution_count": null,
      "metadata": {
        "id": "THNLisRr_s7N"
      },
      "outputs": [],
      "source": [
        "dataset['sentiment'] = df_two['sentiment_2']"
      ]
    },
    {
      "cell_type": "code",
      "execution_count": null,
      "metadata": {
        "id": "-zOcsRSJdfUl"
      },
      "outputs": [],
      "source": [
        "print(dataset['sentiment'].value_counts())"
      ]
    },
    {
      "cell_type": "code",
      "execution_count": null,
      "metadata": {
        "id": "EYAA1JG3diVm"
      },
      "outputs": [],
      "source": [
        "ax = sns.countplot(\n",
        "    x=\"sentiment\",\n",
        "    data=dataset,\n",
        "    palette={\"positive\": \"green\", \"negative\": \"red\", \"neutral\": \"blue\"},\n",
        "    order=[\"positive\",\"negative\", \"neutral\"],\n",
        "    legend=False\n",
        ")\n",
        "\n",
        "# Add percentages above bars\n",
        "total = len(dataset)\n",
        "for p in ax.patches:\n",
        "    count = p.get_height()\n",
        "    percentage = 100 * count / total\n",
        "    ax.annotate(f\"{percentage:.1f}%\",\n",
        "                (p.get_x() + p.get_width() / 2., count),\n",
        "                ha=\"center\", va=\"bottom\", fontsize=11, color=\"black\", xytext=(0, 3),\n",
        "                textcoords=\"offset points\")\n",
        "\n",
        "# Labels & title\n",
        "plt.xlabel(\"Sentiment\")\n",
        "plt.ylabel(\"Count\")\n",
        "plt.title(\"Sentiment Distribution (%)\")\n",
        "plt.show()"
      ]
    },
    {
      "cell_type": "code",
      "execution_count": null,
      "metadata": {
        "id": "aoqet9ob7bm-"
      },
      "outputs": [],
      "source": [
        "texts = dataset[\"text_raw\"].dropna().astype(str).tolist()"
      ]
    },
    {
      "cell_type": "code",
      "execution_count": null,
      "metadata": {
        "id": "wr-2Sx8_9E2N"
      },
      "outputs": [],
      "source": [
        "from sklearn.feature_extraction.text import CountVectorizer\n",
        "from sklearn.decomposition import LatentDirichletAllocation\n",
        "\n",
        "# Convert text to bag-of-words\n",
        "vectorizer = CountVectorizer(max_df=0.9, min_df=10, stop_words=\"english\")\n",
        "X = vectorizer.fit_transform(texts)\n",
        "\n",
        "# Fit LDA model\n",
        "lda = LatentDirichletAllocation(n_components=6, random_state=42)\n",
        "lda.fit(X)\n",
        "\n",
        "# Show top words per topic\n",
        "terms = vectorizer.get_feature_names_out()\n",
        "for idx, topic in enumerate(lda.components_):\n",
        "    print(f\"Topic {idx}: \", [terms[i] for i in topic.argsort()[:-11:-1]])"
      ]
    },
    {
      "cell_type": "code",
      "execution_count": null,
      "metadata": {
        "id": "NdH1R8zp99P9"
      },
      "outputs": [],
      "source": [
        "from wordcloud import WordCloud\n",
        "import matplotlib.pyplot as plt\n",
        "\n",
        "def plot_wordcloud(words):\n",
        "    wc = WordCloud(width=800, height=400, background_color=\"white\").generate(\" \".join(words))\n",
        "    plt.figure(figsize=(10,5))\n",
        "    plt.imshow(wc, interpolation=\"bilinear\")\n",
        "    plt.axis(\"off\")\n",
        "    plt.show()\n",
        "\n",
        "# For LDA\n",
        "for idx, topic in enumerate(lda.components_):\n",
        "    top_words = [terms[i] for i in topic.argsort()[:-21:-1]]\n",
        "    print(f\"Topic {idx}: {top_words}\")\n",
        "    plot_wordcloud(top_words)"
      ]
    },
    {
      "cell_type": "code",
      "execution_count": null,
      "metadata": {
        "id": "AWKJm9Lh-Fwe"
      },
      "outputs": [],
      "source": [
        "doc_topics = lda.transform(X).argmax(axis=1)\n",
        "dataset[\"topic\"] = doc_topics"
      ]
    },
    {
      "cell_type": "code",
      "execution_count": null,
      "metadata": {
        "id": "kD6030ut-H1H"
      },
      "outputs": [],
      "source": [
        "# Sentiment per topic\n",
        "sent_summary = dataset.groupby(\"topic\")[\"sentiment\"].value_counts(normalize=True).unstack().fillna(0)\n",
        "print(sent_summary)\n",
        "\n",
        "# Plot\n",
        "sent_summary.plot(kind=\"bar\", stacked=True, figsize=(10,6))\n",
        "plt.title(\"Sentiment Distribution per Topic\")\n",
        "plt.ylabel(\"Proportion\")\n",
        "plt.show()"
      ]
    },
    {
      "cell_type": "code",
      "execution_count": null,
      "metadata": {
        "id": "XLxbfdGhBNHd"
      },
      "outputs": [],
      "source": [
        "# bertopic\n",
        "!pip install bertopic sentence-transformers umap-learn hdbscan\n",
        "\n",
        "from bertopic import BERTopic\n",
        "from sentence_transformers import SentenceTransformer\n",
        "\n",
        "model = SentenceTransformer(\"all-MiniLM-L6-v2\")\n",
        "embeddings = model.encode(texts, show_progress_bar=True)\n",
        "\n",
        "topic_model = BERTopic()\n",
        "topics, probs = topic_model.fit_transform(texts, embeddings)\n",
        "\n",
        "# Get summary\n",
        "topic_info = topic_model.get_topic_info()\n",
        "print(topic_info.head())\n",
        "\n",
        "# Show top words from a topic\n",
        "print(topic_model.get_topic(0))\n"
      ]
    },
    {
      "cell_type": "code",
      "execution_count": null,
      "metadata": {
        "id": "Nac2KYnZBZRl"
      },
      "outputs": [],
      "source": [
        "# Topic hierarchy and intertopic distance maps\n",
        "topic_model.visualize_topics()"
      ]
    },
    {
      "cell_type": "code",
      "execution_count": null,
      "metadata": {
        "id": "WjOjy2YICvxN"
      },
      "outputs": [],
      "source": [
        "topic_model.visualize_barchart(top_n_topics=10)"
      ]
    },
    {
      "cell_type": "code",
      "execution_count": null,
      "metadata": {
        "id": "SjLLMZC2FjaS"
      },
      "outputs": [],
      "source": [
        "topic_model.visualize_hierarchy()"
      ]
    },
    {
      "cell_type": "code",
      "execution_count": null,
      "metadata": {
        "id": "R9OPtLYAFmUh"
      },
      "outputs": [],
      "source": [
        "#LDA\n",
        "\n",
        "from sklearn.feature_extraction.text import CountVectorizer\n",
        "from sklearn.decomposition import LatentDirichletAllocation\n",
        "\n",
        "texts = dataset[\"text_raw\"].dropna().astype(str).tolist()\n",
        "\n",
        "vectorizer = CountVectorizer(max_df=0.9, min_df=10, stop_words=\"english\")\n",
        "X = vectorizer.fit_transform(texts)\n",
        "\n",
        "lda = LatentDirichletAllocation(n_components=6, random_state=42)\n",
        "doc_topics = lda.fit_transform(X)\n",
        "\n",
        "# Assign each document its dominant topic\n",
        "dataset[\"topic\"] = doc_topics.argmax(axis=1)\n",
        "\n",
        "# Print top words per topic\n",
        "terms = vectorizer.get_feature_names_out()\n",
        "for idx, topic in enumerate(lda.components_):\n",
        "    print(f\"Topic {idx}: \", [terms[i] for i in topic.argsort()[:-11:-1]])\n"
      ]
    },
    {
      "cell_type": "code",
      "execution_count": null,
      "metadata": {
        "id": "dMbIbUutGPp1"
      },
      "outputs": [],
      "source": [
        "# Count how many posts per (topic, sentiment)\n",
        "sent_topic = dataset.groupby([\"topic\",\"sentiment\"]).size().unstack(fill_value=0)\n",
        "\n",
        "# Convert to percentages\n",
        "sent_topic_pct = sent_topic.div(sent_topic.sum(axis=1), axis=0)\n",
        "\n",
        "print(sent_topic)\n",
        "print(sent_topic_pct)\n"
      ]
    },
    {
      "cell_type": "code",
      "execution_count": null,
      "metadata": {
        "id": "w4B2Vr5OGtKs"
      },
      "outputs": [],
      "source": [
        "import matplotlib.pyplot as plt\n",
        "\n",
        "# Stacked bar chart (percentages)\n",
        "sent_topic_pct.plot(kind=\"bar\", stacked=True, figsize=(10,6),\n",
        "                    color={\"negative\":\"red\", \"neutral\":\"blue\", \"positive\":\"green\"})\n",
        "\n",
        "plt.title(\"Sentiment Distribution by Topic\")\n",
        "plt.ylabel(\"Proportion\")\n",
        "plt.xlabel(\"Topic\")\n",
        "plt.legend(title=\"Sentiment\")\n",
        "plt.show()"
      ]
    },
    {
      "cell_type": "code",
      "execution_count": null,
      "metadata": {
        "id": "zMWW4PT-Guhb"
      },
      "outputs": [],
      "source": [
        "topic_labels = {\n",
        "    0: \"Low Pay & Wage Issues\",\n",
        "    1: \"Toxic Management\",\n",
        "    2: \"Work Stress & Burnout\",\n",
        "    3: \"Career Uncertainty\",\n",
        "    4: \"Work-Life Balance\",\n",
        "    5: \"Job Insecurity\"\n",
        "}\n",
        "\n",
        "dataset[\"topic_label\"] = dataset[\"topic\"].map(topic_labels)\n"
      ]
    },
    {
      "cell_type": "code",
      "execution_count": null,
      "metadata": {
        "id": "aLvHqXiIG9Vz"
      },
      "outputs": [],
      "source": [
        "dataset[\"topic_label\"]"
      ]
    },
    {
      "cell_type": "code",
      "execution_count": null,
      "metadata": {
        "id": "gXfEAWpUHC6z"
      },
      "outputs": [],
      "source": [
        "import matplotlib.pyplot as plt\n",
        "\n",
        "# Group by topic label + sentiment\n",
        "sent_topic = dataset.groupby([\"topic_label\",\"sentiment\"]).size().unstack(fill_value=0)\n",
        "\n",
        "# Convert to percentages\n",
        "sent_topic_pct = sent_topic.div(sent_topic.sum(axis=1), axis=0) * 100\n",
        "\n",
        "# Plot stacked bar\n",
        "ax = sent_topic_pct.plot(\n",
        "    kind=\"bar\",\n",
        "    stacked=True,\n",
        "    figsize=(10,6),\n",
        "    color={\"negative\":\"red\",\"neutral\":\"blue\",\"positive\":\"green\"}\n",
        ")\n",
        "\n",
        "# Add percentages on each bar segment\n",
        "for c in ax.containers:\n",
        "    labels = [f\"{v.get_height():.1f}%\" if v.get_height() > 0 else \"\" for v in c]\n",
        "    ax.bar_label(c, labels=labels, label_type=\"center\", fontsize=9, color=\"white\")\n",
        "\n",
        "plt.title(\"Sentiment Distribution by Theme\")\n",
        "plt.ylabel(\"Percentage\")\n",
        "plt.xlabel(\"Theme\")\n",
        "plt.xticks(rotation=45, ha=\"right\")\n",
        "plt.legend(title=\"Sentiment\")\n",
        "plt.tight_layout()\n",
        "plt.show()"
      ]
    },
    {
      "cell_type": "markdown",
      "metadata": {
        "id": "2U83U5bnHuxw"
      },
      "source": [
        "#CNN"
      ]
    },
    {
      "cell_type": "code",
      "execution_count": null,
      "metadata": {
        "id": "flWVcWYPHUwD"
      },
      "outputs": [],
      "source": [
        "import pandas as pd\n",
        "\n",
        "df = dataset.copy()\n",
        "\n",
        "# Prefer a cleaned column if you have one; else fall back to raw\n",
        "TEXT_COL = \"text_clean\" if \"text_clean\" in df.columns else \"text_raw\"\n",
        "df = df.dropna(subset=[TEXT_COL, \"sentiment\"]).copy()\n",
        "df = df[df[TEXT_COL].str.strip().astype(bool)]\n",
        "\n",
        "df[\"sentiment\"] = df[\"sentiment\"].str.lower().map({\n",
        "    \"negative\":\"negative\", \"neutral\":\"neutral\", \"positive\":\"positive\"\n",
        "})\n",
        "df = df[df[\"sentiment\"].isin([\"negative\",\"neutral\",\"positive\"])]\n",
        "\n",
        "print(df[[\"sentiment\"]].value_counts(normalize=True).mul(100).round(1))\n",
        "print(\"Samples:\", len(df))\n"
      ]
    },
    {
      "cell_type": "code",
      "execution_count": null,
      "metadata": {
        "id": "-ZUUVk8RIYHE"
      },
      "outputs": [],
      "source": [
        "import numpy as np\n",
        "from sklearn.model_selection import train_test_split\n",
        "from sklearn.preprocessing import LabelEncoder\n",
        "from sklearn.utils.class_weight import compute_class_weight\n",
        "from tensorflow.keras.preprocessing.text import Tokenizer\n",
        "from tensorflow.keras.preprocessing.sequence import pad_sequences\n",
        "from tensorflow.keras import layers, models, callbacks\n",
        "\n",
        "# Encode labels\n",
        "le = LabelEncoder()\n",
        "y = le.fit_transform(df[\"sentiment\"])  # 0..C-1\n",
        "\n",
        "# Split\n",
        "X_train, X_val, y_train, y_val = train_test_split(\n",
        "    df[TEXT_COL].values, y, test_size=0.2, random_state=42, stratify=y\n",
        ")\n",
        "\n",
        "# Tokenize\n",
        "MAX_WORDS = 40000\n",
        "tokenizer = Tokenizer(num_words=MAX_WORDS, oov_token=\"<OOV>\")\n",
        "tokenizer.fit_on_texts(X_train)\n",
        "Xtr = tokenizer.texts_to_sequences(X_train)\n",
        "Xva = tokenizer.texts_to_sequences(X_val)\n",
        "\n",
        "# Pad\n",
        "MAXLEN = 200\n",
        "Xtr = pad_sequences(Xtr, maxlen=MAXLEN, padding=\"post\", truncating=\"post\")\n",
        "Xva = pad_sequences(Xva, maxlen=MAXLEN, padding=\"post\", truncating=\"post\")\n",
        "\n",
        "# Class weights (to mitigate imbalance)\n",
        "classes = np.unique(y_train)\n",
        "cw = compute_class_weight(class_weight=\"balanced\", classes=classes, y=y_train)\n",
        "class_weight = {int(c): float(w) for c, w in zip(classes, cw)}\n",
        "print(\"Class weights:\", class_weight, \"Label map:\", dict(zip(le.classes_, classes)))\n",
        "\n",
        "# CNN model (1D conv)\n",
        "EMB_DIM = 128\n",
        "model = models.Sequential([\n",
        "    layers.Embedding(input_dim=MAX_WORDS, output_dim=EMB_DIM, input_length=MAXLEN),\n",
        "    layers.Conv1D(256, 5, activation=\"relu\"),\n",
        "    layers.GlobalMaxPooling1D(),\n",
        "    layers.Dropout(0.3),\n",
        "    layers.Dense(128, activation=\"relu\"),\n",
        "    layers.Dropout(0.2),\n",
        "    layers.Dense(len(le.classes_), activation=\"softmax\")\n",
        "])\n",
        "\n",
        "model.compile(optimizer=\"adam\", loss=\"sparse_categorical_crossentropy\", metrics=[\"accuracy\"])\n",
        "es = callbacks.EarlyStopping(patience=3, restore_best_weights=True, monitor=\"val_accuracy\")\n",
        "\n",
        "hist = model.fit(\n",
        "    Xtr, y_train,\n",
        "    validation_data=(Xva, y_val),\n",
        "    epochs=10,\n",
        "    batch_size=128,\n",
        "    class_weight=class_weight,\n",
        "    callbacks=[es],\n",
        "    verbose=1\n",
        ")\n",
        "\n",
        "# Evaluate\n",
        "val_loss, val_acc = model.evaluate(Xva, y_val, verbose=0)\n",
        "print(f\"Validation accuracy: {val_acc:.3f}\")\n",
        "\n",
        "# Inference helper\n",
        "def predict_sentiment(texts):\n",
        "    seq = tokenizer.texts_to_sequences(texts)\n",
        "    seq = pad_sequences(seq, maxlen=MAXLEN, padding=\"post\", truncating=\"post\")\n",
        "    probs = model.predict(seq, verbose=0)\n",
        "    preds = probs.argmax(axis=1)\n",
        "    return le.inverse_transform(preds), probs\n",
        "\n",
        "# Quick sanity check\n",
        "print(predict_sentiment([\"I love my job\", \"My boss is awful and I want to quit\"])[0])"
      ]
    },
    {
      "cell_type": "code",
      "execution_count": null,
      "metadata": {
        "id": "QS3f7yfSIhMk"
      },
      "outputs": [],
      "source": [
        "from sklearn.feature_extraction.text import TfidfVectorizer\n",
        "from sklearn.linear_model import LogisticRegression\n",
        "from sklearn.pipeline import Pipeline\n",
        "from imblearn.over_sampling import SMOTE\n",
        "from imblearn.pipeline import Pipeline as ImbPipeline\n",
        "from sklearn.metrics import classification_report\n",
        "\n",
        "X = df[TEXT_COL].values\n",
        "y = df[\"sentiment\"].values\n",
        "\n",
        "X_train, X_val, y_train, y_val = train_test_split(\n",
        "    X, y, test_size=0.2, random_state=42, stratify=y\n",
        ")\n",
        "\n",
        "smote_clf = ImbPipeline(steps=[\n",
        "    (\"tfidf\", TfidfVectorizer(ngram_range=(1,2), max_features=100_000)),\n",
        "    (\"smote\", SMOTE(random_state=42)),\n",
        "    (\"clf\", LogisticRegression(max_iter=200, class_weight=None, n_jobs=-1))\n",
        "])\n",
        "\n",
        "smote_clf.fit(X_train, y_train)\n",
        "y_pred = smote_clf.predict(X_val)\n",
        "print(classification_report(y_val, y_pred, digits=3))"
      ]
    },
    {
      "cell_type": "code",
      "execution_count": null,
      "metadata": {
        "id": "oQDo2moIIpHK"
      },
      "outputs": [],
      "source": [
        "texts = df[TEXT_COL].astype(str).tolist()\n",
        "\n",
        "use_bertopic = False\n",
        "try:\n",
        "    from bertopic import BERTopic\n",
        "    from sentence_transformers import SentenceTransformer\n",
        "    use_bertopic = True\n",
        "except:\n",
        "    print(\"BERTopic not available; will use LDA + NMF.\")\n",
        "\n",
        "topic_labels = None\n",
        "if use_bertopic:\n",
        "    model_st = SentenceTransformer(\"all-MiniLM-L6-v2\")\n",
        "    emb = model_st.encode(texts, show_progress_bar=True, normalize_embeddings=True)\n",
        "    tm = BERTopic(calculate_probabilities=True, verbose=True, min_topic_size=30, nr_topics=\"auto\")\n",
        "    topics, probs = tm.fit_transform(texts, emb)\n",
        "    df[\"topic_id\"] = topics\n",
        "    # Human-readable names (you can edit later)\n",
        "    info = tm.get_topic_info()\n",
        "    print(info.head())\n",
        "else:\n",
        "    # LDA (bow)\n",
        "    from sklearn.feature_extraction.text import CountVectorizer, TfidfVectorizer\n",
        "    from sklearn.decomposition import LatentDirichletAllocation, NMF\n",
        "    import numpy as np\n",
        "\n",
        "    # LDA\n",
        "    cv = CountVectorizer(stop_words=\"english\", min_df=10, max_df=0.9)\n",
        "    X_bow = cv.fit_transform(texts)\n",
        "    lda = LatentDirichletAllocation(n_components=8, random_state=42)\n",
        "    W = lda.fit_transform(X_bow)\n",
        "    df[\"topic_id\"] = W.argmax(axis=1)\n",
        "    terms_bow = np.array(cv.get_feature_names_out())\n",
        "    print(\"LDA topics (top words):\")\n",
        "    for k, comp in enumerate(lda.components_):\n",
        "        print(k, terms_bow[comp.argsort()[:-11:-1]])\n",
        "\n",
        "    # NMF (tf-idf)\n",
        "    tfidf = TfidfVectorizer(stop_words=\"english\", min_df=10, max_df=0.9)\n",
        "    X_tfidf = tfidf.fit_transform(texts)\n",
        "    nmf = NMF(n_components=8, random_state=42)\n",
        "    H = nmf.fit_transform(X_tfidf)\n",
        "    terms_tfidf = np.array(tfidf.get_feature_names_out())\n",
        "    print(\"\\nNMF topics (top words):\")\n",
        "    for k, comp in enumerate(nmf.components_):\n",
        "        print(k, terms_tfidf[comp.argsort()[:-11:-1]])"
      ]
    },
    {
      "cell_type": "code",
      "execution_count": null,
      "metadata": {
        "id": "dhNiFnrUItDR"
      },
      "outputs": [],
      "source": [
        "# Create an initial mapping from top words you printed above (edit to fit your data)\n",
        "# Example placeholders:\n",
        "topic_map = {\n",
        "    0: \"Low Pay & Wage Issues\",\n",
        "    1: \"Toxic Management\",\n",
        "    2: \"Work Stress & Burnout\",\n",
        "    3: \"Job Insecurity/Redundancy\",\n",
        "    4: \"Work-Life Balance\",\n",
        "    5: \"Scheduling & Hours\",\n",
        "    6: \"Career Progression\",\n",
        "    7: \"Remote/Flexible Work\",\n",
        "}\n",
        "df[\"topic_label\"] = df[\"topic_id\"].map(topic_map).fillna(\"Other/Outlier\")"
      ]
    },
    {
      "cell_type": "code",
      "execution_count": null,
      "metadata": {
        "id": "3ajT2Oo-Ioil"
      },
      "outputs": [],
      "source": [
        "import matplotlib.pyplot as plt\n",
        "\n",
        "# Group to percentages\n",
        "ct = (df.groupby([\"topic_label\",\"sentiment\"])\n",
        "        .size().unstack(fill_value=0))\n",
        "pct = (ct.div(ct.sum(axis=1), axis=0) * 100).sort_index()\n",
        "\n",
        "ax = pct.plot(kind=\"bar\", stacked=True, figsize=(11,6),\n",
        "              color={\"negative\":\"red\",\"neutral\":\"blue\",\"positive\":\"green\"})\n",
        "for container in ax.containers:\n",
        "    labels = [f\"{h:.1f}%\" if h>0 else \"\" for h in container.datavalues]\n",
        "    ax.bar_label(container, labels=labels, label_type=\"center\", fontsize=9, color=\"white\")\n",
        "\n",
        "plt.title(\"Sentiment distribution by topic (percentage)\")\n",
        "plt.ylabel(\"Percentage\")\n",
        "plt.xlabel(\"Topic\")\n",
        "plt.xticks(rotation=45, ha=\"right\")\n",
        "plt.legend(title=\"Sentiment\")\n",
        "plt.tight_layout()\n",
        "plt.show()\n"
      ]
    },
    {
      "cell_type": "code",
      "execution_count": null,
      "metadata": {
        "id": "IHWnzUwTIxzU"
      },
      "outputs": [],
      "source": []
    }
  ],
  "metadata": {
    "colab": {
      "provenance": []
    },
    "kernelspec": {
      "display_name": "Python 3",
      "name": "python3"
    },
    "language_info": {
      "name": "python"
    },
    "widgets": {
      "application/vnd.jupyter.widget-state+json": {
        "2e1e3b02826242ab83f033609c8589d3": {
          "model_module": "@jupyter-widgets/controls",
          "model_name": "HBoxModel",
          "model_module_version": "1.5.0",
          "state": {
            "_dom_classes": [],
            "_model_module": "@jupyter-widgets/controls",
            "_model_module_version": "1.5.0",
            "_model_name": "HBoxModel",
            "_view_count": null,
            "_view_module": "@jupyter-widgets/controls",
            "_view_module_version": "1.5.0",
            "_view_name": "HBoxView",
            "box_style": "",
            "children": [
              "IPY_MODEL_fa384104ae9449a89ec939479f506353",
              "IPY_MODEL_d8cf59d7300b4589a452d6ecd7dd4bd3",
              "IPY_MODEL_f0e4e895563748afb2c10855c203b9c6"
            ],
            "layout": "IPY_MODEL_88dc167d7da9423585fc263d11ba7f0c"
          }
        },
        "fa384104ae9449a89ec939479f506353": {
          "model_module": "@jupyter-widgets/controls",
          "model_name": "HTMLModel",
          "model_module_version": "1.5.0",
          "state": {
            "_dom_classes": [],
            "_model_module": "@jupyter-widgets/controls",
            "_model_module_version": "1.5.0",
            "_model_name": "HTMLModel",
            "_view_count": null,
            "_view_module": "@jupyter-widgets/controls",
            "_view_module_version": "1.5.0",
            "_view_name": "HTMLView",
            "description": "",
            "description_tooltip": null,
            "layout": "IPY_MODEL_3d95dde4c0164d45a815e38cfdcb495d",
            "placeholder": "​",
            "style": "IPY_MODEL_67693e15d671468e89afff7115586c40",
            "value": "config.json: 100%"
          }
        },
        "d8cf59d7300b4589a452d6ecd7dd4bd3": {
          "model_module": "@jupyter-widgets/controls",
          "model_name": "FloatProgressModel",
          "model_module_version": "1.5.0",
          "state": {
            "_dom_classes": [],
            "_model_module": "@jupyter-widgets/controls",
            "_model_module_version": "1.5.0",
            "_model_name": "FloatProgressModel",
            "_view_count": null,
            "_view_module": "@jupyter-widgets/controls",
            "_view_module_version": "1.5.0",
            "_view_name": "ProgressView",
            "bar_style": "success",
            "description": "",
            "description_tooltip": null,
            "layout": "IPY_MODEL_03708765578c40f587e7aa877d9ca8c2",
            "max": 929,
            "min": 0,
            "orientation": "horizontal",
            "style": "IPY_MODEL_82acf7786c734610bc0e922154e2bcba",
            "value": 929
          }
        },
        "f0e4e895563748afb2c10855c203b9c6": {
          "model_module": "@jupyter-widgets/controls",
          "model_name": "HTMLModel",
          "model_module_version": "1.5.0",
          "state": {
            "_dom_classes": [],
            "_model_module": "@jupyter-widgets/controls",
            "_model_module_version": "1.5.0",
            "_model_name": "HTMLModel",
            "_view_count": null,
            "_view_module": "@jupyter-widgets/controls",
            "_view_module_version": "1.5.0",
            "_view_name": "HTMLView",
            "description": "",
            "description_tooltip": null,
            "layout": "IPY_MODEL_e1c6a151263d40e2a9f6be3ecf735e00",
            "placeholder": "​",
            "style": "IPY_MODEL_8487023d574946f4919976eafd0aa53b",
            "value": " 929/929 [00:00&lt;00:00, 69.7kB/s]"
          }
        },
        "88dc167d7da9423585fc263d11ba7f0c": {
          "model_module": "@jupyter-widgets/base",
          "model_name": "LayoutModel",
          "model_module_version": "1.2.0",
          "state": {
            "_model_module": "@jupyter-widgets/base",
            "_model_module_version": "1.2.0",
            "_model_name": "LayoutModel",
            "_view_count": null,
            "_view_module": "@jupyter-widgets/base",
            "_view_module_version": "1.2.0",
            "_view_name": "LayoutView",
            "align_content": null,
            "align_items": null,
            "align_self": null,
            "border": null,
            "bottom": null,
            "display": null,
            "flex": null,
            "flex_flow": null,
            "grid_area": null,
            "grid_auto_columns": null,
            "grid_auto_flow": null,
            "grid_auto_rows": null,
            "grid_column": null,
            "grid_gap": null,
            "grid_row": null,
            "grid_template_areas": null,
            "grid_template_columns": null,
            "grid_template_rows": null,
            "height": null,
            "justify_content": null,
            "justify_items": null,
            "left": null,
            "margin": null,
            "max_height": null,
            "max_width": null,
            "min_height": null,
            "min_width": null,
            "object_fit": null,
            "object_position": null,
            "order": null,
            "overflow": null,
            "overflow_x": null,
            "overflow_y": null,
            "padding": null,
            "right": null,
            "top": null,
            "visibility": null,
            "width": null
          }
        },
        "3d95dde4c0164d45a815e38cfdcb495d": {
          "model_module": "@jupyter-widgets/base",
          "model_name": "LayoutModel",
          "model_module_version": "1.2.0",
          "state": {
            "_model_module": "@jupyter-widgets/base",
            "_model_module_version": "1.2.0",
            "_model_name": "LayoutModel",
            "_view_count": null,
            "_view_module": "@jupyter-widgets/base",
            "_view_module_version": "1.2.0",
            "_view_name": "LayoutView",
            "align_content": null,
            "align_items": null,
            "align_self": null,
            "border": null,
            "bottom": null,
            "display": null,
            "flex": null,
            "flex_flow": null,
            "grid_area": null,
            "grid_auto_columns": null,
            "grid_auto_flow": null,
            "grid_auto_rows": null,
            "grid_column": null,
            "grid_gap": null,
            "grid_row": null,
            "grid_template_areas": null,
            "grid_template_columns": null,
            "grid_template_rows": null,
            "height": null,
            "justify_content": null,
            "justify_items": null,
            "left": null,
            "margin": null,
            "max_height": null,
            "max_width": null,
            "min_height": null,
            "min_width": null,
            "object_fit": null,
            "object_position": null,
            "order": null,
            "overflow": null,
            "overflow_x": null,
            "overflow_y": null,
            "padding": null,
            "right": null,
            "top": null,
            "visibility": null,
            "width": null
          }
        },
        "67693e15d671468e89afff7115586c40": {
          "model_module": "@jupyter-widgets/controls",
          "model_name": "DescriptionStyleModel",
          "model_module_version": "1.5.0",
          "state": {
            "_model_module": "@jupyter-widgets/controls",
            "_model_module_version": "1.5.0",
            "_model_name": "DescriptionStyleModel",
            "_view_count": null,
            "_view_module": "@jupyter-widgets/base",
            "_view_module_version": "1.2.0",
            "_view_name": "StyleView",
            "description_width": ""
          }
        },
        "03708765578c40f587e7aa877d9ca8c2": {
          "model_module": "@jupyter-widgets/base",
          "model_name": "LayoutModel",
          "model_module_version": "1.2.0",
          "state": {
            "_model_module": "@jupyter-widgets/base",
            "_model_module_version": "1.2.0",
            "_model_name": "LayoutModel",
            "_view_count": null,
            "_view_module": "@jupyter-widgets/base",
            "_view_module_version": "1.2.0",
            "_view_name": "LayoutView",
            "align_content": null,
            "align_items": null,
            "align_self": null,
            "border": null,
            "bottom": null,
            "display": null,
            "flex": null,
            "flex_flow": null,
            "grid_area": null,
            "grid_auto_columns": null,
            "grid_auto_flow": null,
            "grid_auto_rows": null,
            "grid_column": null,
            "grid_gap": null,
            "grid_row": null,
            "grid_template_areas": null,
            "grid_template_columns": null,
            "grid_template_rows": null,
            "height": null,
            "justify_content": null,
            "justify_items": null,
            "left": null,
            "margin": null,
            "max_height": null,
            "max_width": null,
            "min_height": null,
            "min_width": null,
            "object_fit": null,
            "object_position": null,
            "order": null,
            "overflow": null,
            "overflow_x": null,
            "overflow_y": null,
            "padding": null,
            "right": null,
            "top": null,
            "visibility": null,
            "width": null
          }
        },
        "82acf7786c734610bc0e922154e2bcba": {
          "model_module": "@jupyter-widgets/controls",
          "model_name": "ProgressStyleModel",
          "model_module_version": "1.5.0",
          "state": {
            "_model_module": "@jupyter-widgets/controls",
            "_model_module_version": "1.5.0",
            "_model_name": "ProgressStyleModel",
            "_view_count": null,
            "_view_module": "@jupyter-widgets/base",
            "_view_module_version": "1.2.0",
            "_view_name": "StyleView",
            "bar_color": null,
            "description_width": ""
          }
        },
        "e1c6a151263d40e2a9f6be3ecf735e00": {
          "model_module": "@jupyter-widgets/base",
          "model_name": "LayoutModel",
          "model_module_version": "1.2.0",
          "state": {
            "_model_module": "@jupyter-widgets/base",
            "_model_module_version": "1.2.0",
            "_model_name": "LayoutModel",
            "_view_count": null,
            "_view_module": "@jupyter-widgets/base",
            "_view_module_version": "1.2.0",
            "_view_name": "LayoutView",
            "align_content": null,
            "align_items": null,
            "align_self": null,
            "border": null,
            "bottom": null,
            "display": null,
            "flex": null,
            "flex_flow": null,
            "grid_area": null,
            "grid_auto_columns": null,
            "grid_auto_flow": null,
            "grid_auto_rows": null,
            "grid_column": null,
            "grid_gap": null,
            "grid_row": null,
            "grid_template_areas": null,
            "grid_template_columns": null,
            "grid_template_rows": null,
            "height": null,
            "justify_content": null,
            "justify_items": null,
            "left": null,
            "margin": null,
            "max_height": null,
            "max_width": null,
            "min_height": null,
            "min_width": null,
            "object_fit": null,
            "object_position": null,
            "order": null,
            "overflow": null,
            "overflow_x": null,
            "overflow_y": null,
            "padding": null,
            "right": null,
            "top": null,
            "visibility": null,
            "width": null
          }
        },
        "8487023d574946f4919976eafd0aa53b": {
          "model_module": "@jupyter-widgets/controls",
          "model_name": "DescriptionStyleModel",
          "model_module_version": "1.5.0",
          "state": {
            "_model_module": "@jupyter-widgets/controls",
            "_model_module_version": "1.5.0",
            "_model_name": "DescriptionStyleModel",
            "_view_count": null,
            "_view_module": "@jupyter-widgets/base",
            "_view_module_version": "1.2.0",
            "_view_name": "StyleView",
            "description_width": ""
          }
        },
        "d239231cb42d47a392feeab2658e8288": {
          "model_module": "@jupyter-widgets/controls",
          "model_name": "HBoxModel",
          "model_module_version": "1.5.0",
          "state": {
            "_dom_classes": [],
            "_model_module": "@jupyter-widgets/controls",
            "_model_module_version": "1.5.0",
            "_model_name": "HBoxModel",
            "_view_count": null,
            "_view_module": "@jupyter-widgets/controls",
            "_view_module_version": "1.5.0",
            "_view_name": "HBoxView",
            "box_style": "",
            "children": [
              "IPY_MODEL_51fb7115eccb403c824213d0fdd782e0",
              "IPY_MODEL_5f6b88e022654d1ab820466f3ab12c98",
              "IPY_MODEL_8719031b824b44728012ba7ce7b19557"
            ],
            "layout": "IPY_MODEL_641a09ee037f4861ac7b832e781f8594"
          }
        },
        "51fb7115eccb403c824213d0fdd782e0": {
          "model_module": "@jupyter-widgets/controls",
          "model_name": "HTMLModel",
          "model_module_version": "1.5.0",
          "state": {
            "_dom_classes": [],
            "_model_module": "@jupyter-widgets/controls",
            "_model_module_version": "1.5.0",
            "_model_name": "HTMLModel",
            "_view_count": null,
            "_view_module": "@jupyter-widgets/controls",
            "_view_module_version": "1.5.0",
            "_view_name": "HTMLView",
            "description": "",
            "description_tooltip": null,
            "layout": "IPY_MODEL_74371ce3837a49e19c5193cec03ff48d",
            "placeholder": "​",
            "style": "IPY_MODEL_9604e7ce500545929278975ab4185d12",
            "value": "vocab.json: "
          }
        },
        "5f6b88e022654d1ab820466f3ab12c98": {
          "model_module": "@jupyter-widgets/controls",
          "model_name": "FloatProgressModel",
          "model_module_version": "1.5.0",
          "state": {
            "_dom_classes": [],
            "_model_module": "@jupyter-widgets/controls",
            "_model_module_version": "1.5.0",
            "_model_name": "FloatProgressModel",
            "_view_count": null,
            "_view_module": "@jupyter-widgets/controls",
            "_view_module_version": "1.5.0",
            "_view_name": "ProgressView",
            "bar_style": "success",
            "description": "",
            "description_tooltip": null,
            "layout": "IPY_MODEL_7bd06f505e33489d962bb2e4b180c1aa",
            "max": 1,
            "min": 0,
            "orientation": "horizontal",
            "style": "IPY_MODEL_dbddaa8733464e42818042f77225e3ae",
            "value": 1
          }
        },
        "8719031b824b44728012ba7ce7b19557": {
          "model_module": "@jupyter-widgets/controls",
          "model_name": "HTMLModel",
          "model_module_version": "1.5.0",
          "state": {
            "_dom_classes": [],
            "_model_module": "@jupyter-widgets/controls",
            "_model_module_version": "1.5.0",
            "_model_name": "HTMLModel",
            "_view_count": null,
            "_view_module": "@jupyter-widgets/controls",
            "_view_module_version": "1.5.0",
            "_view_name": "HTMLView",
            "description": "",
            "description_tooltip": null,
            "layout": "IPY_MODEL_ecfa17e7413a44d1b105c0f1c776df1e",
            "placeholder": "​",
            "style": "IPY_MODEL_8b3de3ae65b34a8ba197d783d9add535",
            "value": " 899k/? [00:00&lt;00:00, 3.96MB/s]"
          }
        },
        "641a09ee037f4861ac7b832e781f8594": {
          "model_module": "@jupyter-widgets/base",
          "model_name": "LayoutModel",
          "model_module_version": "1.2.0",
          "state": {
            "_model_module": "@jupyter-widgets/base",
            "_model_module_version": "1.2.0",
            "_model_name": "LayoutModel",
            "_view_count": null,
            "_view_module": "@jupyter-widgets/base",
            "_view_module_version": "1.2.0",
            "_view_name": "LayoutView",
            "align_content": null,
            "align_items": null,
            "align_self": null,
            "border": null,
            "bottom": null,
            "display": null,
            "flex": null,
            "flex_flow": null,
            "grid_area": null,
            "grid_auto_columns": null,
            "grid_auto_flow": null,
            "grid_auto_rows": null,
            "grid_column": null,
            "grid_gap": null,
            "grid_row": null,
            "grid_template_areas": null,
            "grid_template_columns": null,
            "grid_template_rows": null,
            "height": null,
            "justify_content": null,
            "justify_items": null,
            "left": null,
            "margin": null,
            "max_height": null,
            "max_width": null,
            "min_height": null,
            "min_width": null,
            "object_fit": null,
            "object_position": null,
            "order": null,
            "overflow": null,
            "overflow_x": null,
            "overflow_y": null,
            "padding": null,
            "right": null,
            "top": null,
            "visibility": null,
            "width": null
          }
        },
        "74371ce3837a49e19c5193cec03ff48d": {
          "model_module": "@jupyter-widgets/base",
          "model_name": "LayoutModel",
          "model_module_version": "1.2.0",
          "state": {
            "_model_module": "@jupyter-widgets/base",
            "_model_module_version": "1.2.0",
            "_model_name": "LayoutModel",
            "_view_count": null,
            "_view_module": "@jupyter-widgets/base",
            "_view_module_version": "1.2.0",
            "_view_name": "LayoutView",
            "align_content": null,
            "align_items": null,
            "align_self": null,
            "border": null,
            "bottom": null,
            "display": null,
            "flex": null,
            "flex_flow": null,
            "grid_area": null,
            "grid_auto_columns": null,
            "grid_auto_flow": null,
            "grid_auto_rows": null,
            "grid_column": null,
            "grid_gap": null,
            "grid_row": null,
            "grid_template_areas": null,
            "grid_template_columns": null,
            "grid_template_rows": null,
            "height": null,
            "justify_content": null,
            "justify_items": null,
            "left": null,
            "margin": null,
            "max_height": null,
            "max_width": null,
            "min_height": null,
            "min_width": null,
            "object_fit": null,
            "object_position": null,
            "order": null,
            "overflow": null,
            "overflow_x": null,
            "overflow_y": null,
            "padding": null,
            "right": null,
            "top": null,
            "visibility": null,
            "width": null
          }
        },
        "9604e7ce500545929278975ab4185d12": {
          "model_module": "@jupyter-widgets/controls",
          "model_name": "DescriptionStyleModel",
          "model_module_version": "1.5.0",
          "state": {
            "_model_module": "@jupyter-widgets/controls",
            "_model_module_version": "1.5.0",
            "_model_name": "DescriptionStyleModel",
            "_view_count": null,
            "_view_module": "@jupyter-widgets/base",
            "_view_module_version": "1.2.0",
            "_view_name": "StyleView",
            "description_width": ""
          }
        },
        "7bd06f505e33489d962bb2e4b180c1aa": {
          "model_module": "@jupyter-widgets/base",
          "model_name": "LayoutModel",
          "model_module_version": "1.2.0",
          "state": {
            "_model_module": "@jupyter-widgets/base",
            "_model_module_version": "1.2.0",
            "_model_name": "LayoutModel",
            "_view_count": null,
            "_view_module": "@jupyter-widgets/base",
            "_view_module_version": "1.2.0",
            "_view_name": "LayoutView",
            "align_content": null,
            "align_items": null,
            "align_self": null,
            "border": null,
            "bottom": null,
            "display": null,
            "flex": null,
            "flex_flow": null,
            "grid_area": null,
            "grid_auto_columns": null,
            "grid_auto_flow": null,
            "grid_auto_rows": null,
            "grid_column": null,
            "grid_gap": null,
            "grid_row": null,
            "grid_template_areas": null,
            "grid_template_columns": null,
            "grid_template_rows": null,
            "height": null,
            "justify_content": null,
            "justify_items": null,
            "left": null,
            "margin": null,
            "max_height": null,
            "max_width": null,
            "min_height": null,
            "min_width": null,
            "object_fit": null,
            "object_position": null,
            "order": null,
            "overflow": null,
            "overflow_x": null,
            "overflow_y": null,
            "padding": null,
            "right": null,
            "top": null,
            "visibility": null,
            "width": "20px"
          }
        },
        "dbddaa8733464e42818042f77225e3ae": {
          "model_module": "@jupyter-widgets/controls",
          "model_name": "ProgressStyleModel",
          "model_module_version": "1.5.0",
          "state": {
            "_model_module": "@jupyter-widgets/controls",
            "_model_module_version": "1.5.0",
            "_model_name": "ProgressStyleModel",
            "_view_count": null,
            "_view_module": "@jupyter-widgets/base",
            "_view_module_version": "1.2.0",
            "_view_name": "StyleView",
            "bar_color": null,
            "description_width": ""
          }
        },
        "ecfa17e7413a44d1b105c0f1c776df1e": {
          "model_module": "@jupyter-widgets/base",
          "model_name": "LayoutModel",
          "model_module_version": "1.2.0",
          "state": {
            "_model_module": "@jupyter-widgets/base",
            "_model_module_version": "1.2.0",
            "_model_name": "LayoutModel",
            "_view_count": null,
            "_view_module": "@jupyter-widgets/base",
            "_view_module_version": "1.2.0",
            "_view_name": "LayoutView",
            "align_content": null,
            "align_items": null,
            "align_self": null,
            "border": null,
            "bottom": null,
            "display": null,
            "flex": null,
            "flex_flow": null,
            "grid_area": null,
            "grid_auto_columns": null,
            "grid_auto_flow": null,
            "grid_auto_rows": null,
            "grid_column": null,
            "grid_gap": null,
            "grid_row": null,
            "grid_template_areas": null,
            "grid_template_columns": null,
            "grid_template_rows": null,
            "height": null,
            "justify_content": null,
            "justify_items": null,
            "left": null,
            "margin": null,
            "max_height": null,
            "max_width": null,
            "min_height": null,
            "min_width": null,
            "object_fit": null,
            "object_position": null,
            "order": null,
            "overflow": null,
            "overflow_x": null,
            "overflow_y": null,
            "padding": null,
            "right": null,
            "top": null,
            "visibility": null,
            "width": null
          }
        },
        "8b3de3ae65b34a8ba197d783d9add535": {
          "model_module": "@jupyter-widgets/controls",
          "model_name": "DescriptionStyleModel",
          "model_module_version": "1.5.0",
          "state": {
            "_model_module": "@jupyter-widgets/controls",
            "_model_module_version": "1.5.0",
            "_model_name": "DescriptionStyleModel",
            "_view_count": null,
            "_view_module": "@jupyter-widgets/base",
            "_view_module_version": "1.2.0",
            "_view_name": "StyleView",
            "description_width": ""
          }
        },
        "5ab3edfb32c74ac9a0189fe9be7f1043": {
          "model_module": "@jupyter-widgets/controls",
          "model_name": "HBoxModel",
          "model_module_version": "1.5.0",
          "state": {
            "_dom_classes": [],
            "_model_module": "@jupyter-widgets/controls",
            "_model_module_version": "1.5.0",
            "_model_name": "HBoxModel",
            "_view_count": null,
            "_view_module": "@jupyter-widgets/controls",
            "_view_module_version": "1.5.0",
            "_view_name": "HBoxView",
            "box_style": "",
            "children": [
              "IPY_MODEL_25fa2c9ee25a4cb88d9a800e6ade7fcb",
              "IPY_MODEL_790a54d8a6c54a3392f25da31d5c6913",
              "IPY_MODEL_6d991392ac514bc682f91b6023085008"
            ],
            "layout": "IPY_MODEL_d5a1a62f4a0f406f9a4b310792c47c06"
          }
        },
        "25fa2c9ee25a4cb88d9a800e6ade7fcb": {
          "model_module": "@jupyter-widgets/controls",
          "model_name": "HTMLModel",
          "model_module_version": "1.5.0",
          "state": {
            "_dom_classes": [],
            "_model_module": "@jupyter-widgets/controls",
            "_model_module_version": "1.5.0",
            "_model_name": "HTMLModel",
            "_view_count": null,
            "_view_module": "@jupyter-widgets/controls",
            "_view_module_version": "1.5.0",
            "_view_name": "HTMLView",
            "description": "",
            "description_tooltip": null,
            "layout": "IPY_MODEL_f6cda1af76744ef4876d4990616554af",
            "placeholder": "​",
            "style": "IPY_MODEL_3a137f5a70884dec843bea718f27fe3b",
            "value": "merges.txt: "
          }
        },
        "790a54d8a6c54a3392f25da31d5c6913": {
          "model_module": "@jupyter-widgets/controls",
          "model_name": "FloatProgressModel",
          "model_module_version": "1.5.0",
          "state": {
            "_dom_classes": [],
            "_model_module": "@jupyter-widgets/controls",
            "_model_module_version": "1.5.0",
            "_model_name": "FloatProgressModel",
            "_view_count": null,
            "_view_module": "@jupyter-widgets/controls",
            "_view_module_version": "1.5.0",
            "_view_name": "ProgressView",
            "bar_style": "success",
            "description": "",
            "description_tooltip": null,
            "layout": "IPY_MODEL_8eb519ce3a3547c782d0fd2b95c895b5",
            "max": 1,
            "min": 0,
            "orientation": "horizontal",
            "style": "IPY_MODEL_073fdec784c148d4abfcfebaa71bd408",
            "value": 1
          }
        },
        "6d991392ac514bc682f91b6023085008": {
          "model_module": "@jupyter-widgets/controls",
          "model_name": "HTMLModel",
          "model_module_version": "1.5.0",
          "state": {
            "_dom_classes": [],
            "_model_module": "@jupyter-widgets/controls",
            "_model_module_version": "1.5.0",
            "_model_name": "HTMLModel",
            "_view_count": null,
            "_view_module": "@jupyter-widgets/controls",
            "_view_module_version": "1.5.0",
            "_view_name": "HTMLView",
            "description": "",
            "description_tooltip": null,
            "layout": "IPY_MODEL_cf12f48a79984e6f8f3fb0de6ef9aeb4",
            "placeholder": "​",
            "style": "IPY_MODEL_6f4d6c34480f4e79b152f11979f64cdc",
            "value": " 456k/? [00:00&lt;00:00, 15.8MB/s]"
          }
        },
        "d5a1a62f4a0f406f9a4b310792c47c06": {
          "model_module": "@jupyter-widgets/base",
          "model_name": "LayoutModel",
          "model_module_version": "1.2.0",
          "state": {
            "_model_module": "@jupyter-widgets/base",
            "_model_module_version": "1.2.0",
            "_model_name": "LayoutModel",
            "_view_count": null,
            "_view_module": "@jupyter-widgets/base",
            "_view_module_version": "1.2.0",
            "_view_name": "LayoutView",
            "align_content": null,
            "align_items": null,
            "align_self": null,
            "border": null,
            "bottom": null,
            "display": null,
            "flex": null,
            "flex_flow": null,
            "grid_area": null,
            "grid_auto_columns": null,
            "grid_auto_flow": null,
            "grid_auto_rows": null,
            "grid_column": null,
            "grid_gap": null,
            "grid_row": null,
            "grid_template_areas": null,
            "grid_template_columns": null,
            "grid_template_rows": null,
            "height": null,
            "justify_content": null,
            "justify_items": null,
            "left": null,
            "margin": null,
            "max_height": null,
            "max_width": null,
            "min_height": null,
            "min_width": null,
            "object_fit": null,
            "object_position": null,
            "order": null,
            "overflow": null,
            "overflow_x": null,
            "overflow_y": null,
            "padding": null,
            "right": null,
            "top": null,
            "visibility": null,
            "width": null
          }
        },
        "f6cda1af76744ef4876d4990616554af": {
          "model_module": "@jupyter-widgets/base",
          "model_name": "LayoutModel",
          "model_module_version": "1.2.0",
          "state": {
            "_model_module": "@jupyter-widgets/base",
            "_model_module_version": "1.2.0",
            "_model_name": "LayoutModel",
            "_view_count": null,
            "_view_module": "@jupyter-widgets/base",
            "_view_module_version": "1.2.0",
            "_view_name": "LayoutView",
            "align_content": null,
            "align_items": null,
            "align_self": null,
            "border": null,
            "bottom": null,
            "display": null,
            "flex": null,
            "flex_flow": null,
            "grid_area": null,
            "grid_auto_columns": null,
            "grid_auto_flow": null,
            "grid_auto_rows": null,
            "grid_column": null,
            "grid_gap": null,
            "grid_row": null,
            "grid_template_areas": null,
            "grid_template_columns": null,
            "grid_template_rows": null,
            "height": null,
            "justify_content": null,
            "justify_items": null,
            "left": null,
            "margin": null,
            "max_height": null,
            "max_width": null,
            "min_height": null,
            "min_width": null,
            "object_fit": null,
            "object_position": null,
            "order": null,
            "overflow": null,
            "overflow_x": null,
            "overflow_y": null,
            "padding": null,
            "right": null,
            "top": null,
            "visibility": null,
            "width": null
          }
        },
        "3a137f5a70884dec843bea718f27fe3b": {
          "model_module": "@jupyter-widgets/controls",
          "model_name": "DescriptionStyleModel",
          "model_module_version": "1.5.0",
          "state": {
            "_model_module": "@jupyter-widgets/controls",
            "_model_module_version": "1.5.0",
            "_model_name": "DescriptionStyleModel",
            "_view_count": null,
            "_view_module": "@jupyter-widgets/base",
            "_view_module_version": "1.2.0",
            "_view_name": "StyleView",
            "description_width": ""
          }
        },
        "8eb519ce3a3547c782d0fd2b95c895b5": {
          "model_module": "@jupyter-widgets/base",
          "model_name": "LayoutModel",
          "model_module_version": "1.2.0",
          "state": {
            "_model_module": "@jupyter-widgets/base",
            "_model_module_version": "1.2.0",
            "_model_name": "LayoutModel",
            "_view_count": null,
            "_view_module": "@jupyter-widgets/base",
            "_view_module_version": "1.2.0",
            "_view_name": "LayoutView",
            "align_content": null,
            "align_items": null,
            "align_self": null,
            "border": null,
            "bottom": null,
            "display": null,
            "flex": null,
            "flex_flow": null,
            "grid_area": null,
            "grid_auto_columns": null,
            "grid_auto_flow": null,
            "grid_auto_rows": null,
            "grid_column": null,
            "grid_gap": null,
            "grid_row": null,
            "grid_template_areas": null,
            "grid_template_columns": null,
            "grid_template_rows": null,
            "height": null,
            "justify_content": null,
            "justify_items": null,
            "left": null,
            "margin": null,
            "max_height": null,
            "max_width": null,
            "min_height": null,
            "min_width": null,
            "object_fit": null,
            "object_position": null,
            "order": null,
            "overflow": null,
            "overflow_x": null,
            "overflow_y": null,
            "padding": null,
            "right": null,
            "top": null,
            "visibility": null,
            "width": "20px"
          }
        },
        "073fdec784c148d4abfcfebaa71bd408": {
          "model_module": "@jupyter-widgets/controls",
          "model_name": "ProgressStyleModel",
          "model_module_version": "1.5.0",
          "state": {
            "_model_module": "@jupyter-widgets/controls",
            "_model_module_version": "1.5.0",
            "_model_name": "ProgressStyleModel",
            "_view_count": null,
            "_view_module": "@jupyter-widgets/base",
            "_view_module_version": "1.2.0",
            "_view_name": "StyleView",
            "bar_color": null,
            "description_width": ""
          }
        },
        "cf12f48a79984e6f8f3fb0de6ef9aeb4": {
          "model_module": "@jupyter-widgets/base",
          "model_name": "LayoutModel",
          "model_module_version": "1.2.0",
          "state": {
            "_model_module": "@jupyter-widgets/base",
            "_model_module_version": "1.2.0",
            "_model_name": "LayoutModel",
            "_view_count": null,
            "_view_module": "@jupyter-widgets/base",
            "_view_module_version": "1.2.0",
            "_view_name": "LayoutView",
            "align_content": null,
            "align_items": null,
            "align_self": null,
            "border": null,
            "bottom": null,
            "display": null,
            "flex": null,
            "flex_flow": null,
            "grid_area": null,
            "grid_auto_columns": null,
            "grid_auto_flow": null,
            "grid_auto_rows": null,
            "grid_column": null,
            "grid_gap": null,
            "grid_row": null,
            "grid_template_areas": null,
            "grid_template_columns": null,
            "grid_template_rows": null,
            "height": null,
            "justify_content": null,
            "justify_items": null,
            "left": null,
            "margin": null,
            "max_height": null,
            "max_width": null,
            "min_height": null,
            "min_width": null,
            "object_fit": null,
            "object_position": null,
            "order": null,
            "overflow": null,
            "overflow_x": null,
            "overflow_y": null,
            "padding": null,
            "right": null,
            "top": null,
            "visibility": null,
            "width": null
          }
        },
        "6f4d6c34480f4e79b152f11979f64cdc": {
          "model_module": "@jupyter-widgets/controls",
          "model_name": "DescriptionStyleModel",
          "model_module_version": "1.5.0",
          "state": {
            "_model_module": "@jupyter-widgets/controls",
            "_model_module_version": "1.5.0",
            "_model_name": "DescriptionStyleModel",
            "_view_count": null,
            "_view_module": "@jupyter-widgets/base",
            "_view_module_version": "1.2.0",
            "_view_name": "StyleView",
            "description_width": ""
          }
        },
        "02fc60fb330d4d28a9581bd95823eb1f": {
          "model_module": "@jupyter-widgets/controls",
          "model_name": "HBoxModel",
          "model_module_version": "1.5.0",
          "state": {
            "_dom_classes": [],
            "_model_module": "@jupyter-widgets/controls",
            "_model_module_version": "1.5.0",
            "_model_name": "HBoxModel",
            "_view_count": null,
            "_view_module": "@jupyter-widgets/controls",
            "_view_module_version": "1.5.0",
            "_view_name": "HBoxView",
            "box_style": "",
            "children": [
              "IPY_MODEL_c0c359b7f7754bbebd39d1fd9885c8c0",
              "IPY_MODEL_bf9ceb92c3ef40cfa2d988fd4e632a44",
              "IPY_MODEL_34e718bc949646708164091da7316387"
            ],
            "layout": "IPY_MODEL_4747ac1ed54a4d868f26725f18a2d01e"
          }
        },
        "c0c359b7f7754bbebd39d1fd9885c8c0": {
          "model_module": "@jupyter-widgets/controls",
          "model_name": "HTMLModel",
          "model_module_version": "1.5.0",
          "state": {
            "_dom_classes": [],
            "_model_module": "@jupyter-widgets/controls",
            "_model_module_version": "1.5.0",
            "_model_name": "HTMLModel",
            "_view_count": null,
            "_view_module": "@jupyter-widgets/controls",
            "_view_module_version": "1.5.0",
            "_view_name": "HTMLView",
            "description": "",
            "description_tooltip": null,
            "layout": "IPY_MODEL_e29d3b4f13884d9d9fad8cc935cbb422",
            "placeholder": "​",
            "style": "IPY_MODEL_36d630ef124c449d8350bf12b90f7f58",
            "value": "special_tokens_map.json: 100%"
          }
        },
        "bf9ceb92c3ef40cfa2d988fd4e632a44": {
          "model_module": "@jupyter-widgets/controls",
          "model_name": "FloatProgressModel",
          "model_module_version": "1.5.0",
          "state": {
            "_dom_classes": [],
            "_model_module": "@jupyter-widgets/controls",
            "_model_module_version": "1.5.0",
            "_model_name": "FloatProgressModel",
            "_view_count": null,
            "_view_module": "@jupyter-widgets/controls",
            "_view_module_version": "1.5.0",
            "_view_name": "ProgressView",
            "bar_style": "success",
            "description": "",
            "description_tooltip": null,
            "layout": "IPY_MODEL_9d163248e95141148dbe477e6d452ecf",
            "max": 239,
            "min": 0,
            "orientation": "horizontal",
            "style": "IPY_MODEL_9220ced09b45412fb56d2c4e82b1dbc0",
            "value": 239
          }
        },
        "34e718bc949646708164091da7316387": {
          "model_module": "@jupyter-widgets/controls",
          "model_name": "HTMLModel",
          "model_module_version": "1.5.0",
          "state": {
            "_dom_classes": [],
            "_model_module": "@jupyter-widgets/controls",
            "_model_module_version": "1.5.0",
            "_model_name": "HTMLModel",
            "_view_count": null,
            "_view_module": "@jupyter-widgets/controls",
            "_view_module_version": "1.5.0",
            "_view_name": "HTMLView",
            "description": "",
            "description_tooltip": null,
            "layout": "IPY_MODEL_c2ef630190bc47f0b874ff1965fec86c",
            "placeholder": "​",
            "style": "IPY_MODEL_dc7f70e16bb04ae2bbcb70fe8dc8c704",
            "value": " 239/239 [00:00&lt;00:00, 19.8kB/s]"
          }
        },
        "4747ac1ed54a4d868f26725f18a2d01e": {
          "model_module": "@jupyter-widgets/base",
          "model_name": "LayoutModel",
          "model_module_version": "1.2.0",
          "state": {
            "_model_module": "@jupyter-widgets/base",
            "_model_module_version": "1.2.0",
            "_model_name": "LayoutModel",
            "_view_count": null,
            "_view_module": "@jupyter-widgets/base",
            "_view_module_version": "1.2.0",
            "_view_name": "LayoutView",
            "align_content": null,
            "align_items": null,
            "align_self": null,
            "border": null,
            "bottom": null,
            "display": null,
            "flex": null,
            "flex_flow": null,
            "grid_area": null,
            "grid_auto_columns": null,
            "grid_auto_flow": null,
            "grid_auto_rows": null,
            "grid_column": null,
            "grid_gap": null,
            "grid_row": null,
            "grid_template_areas": null,
            "grid_template_columns": null,
            "grid_template_rows": null,
            "height": null,
            "justify_content": null,
            "justify_items": null,
            "left": null,
            "margin": null,
            "max_height": null,
            "max_width": null,
            "min_height": null,
            "min_width": null,
            "object_fit": null,
            "object_position": null,
            "order": null,
            "overflow": null,
            "overflow_x": null,
            "overflow_y": null,
            "padding": null,
            "right": null,
            "top": null,
            "visibility": null,
            "width": null
          }
        },
        "e29d3b4f13884d9d9fad8cc935cbb422": {
          "model_module": "@jupyter-widgets/base",
          "model_name": "LayoutModel",
          "model_module_version": "1.2.0",
          "state": {
            "_model_module": "@jupyter-widgets/base",
            "_model_module_version": "1.2.0",
            "_model_name": "LayoutModel",
            "_view_count": null,
            "_view_module": "@jupyter-widgets/base",
            "_view_module_version": "1.2.0",
            "_view_name": "LayoutView",
            "align_content": null,
            "align_items": null,
            "align_self": null,
            "border": null,
            "bottom": null,
            "display": null,
            "flex": null,
            "flex_flow": null,
            "grid_area": null,
            "grid_auto_columns": null,
            "grid_auto_flow": null,
            "grid_auto_rows": null,
            "grid_column": null,
            "grid_gap": null,
            "grid_row": null,
            "grid_template_areas": null,
            "grid_template_columns": null,
            "grid_template_rows": null,
            "height": null,
            "justify_content": null,
            "justify_items": null,
            "left": null,
            "margin": null,
            "max_height": null,
            "max_width": null,
            "min_height": null,
            "min_width": null,
            "object_fit": null,
            "object_position": null,
            "order": null,
            "overflow": null,
            "overflow_x": null,
            "overflow_y": null,
            "padding": null,
            "right": null,
            "top": null,
            "visibility": null,
            "width": null
          }
        },
        "36d630ef124c449d8350bf12b90f7f58": {
          "model_module": "@jupyter-widgets/controls",
          "model_name": "DescriptionStyleModel",
          "model_module_version": "1.5.0",
          "state": {
            "_model_module": "@jupyter-widgets/controls",
            "_model_module_version": "1.5.0",
            "_model_name": "DescriptionStyleModel",
            "_view_count": null,
            "_view_module": "@jupyter-widgets/base",
            "_view_module_version": "1.2.0",
            "_view_name": "StyleView",
            "description_width": ""
          }
        },
        "9d163248e95141148dbe477e6d452ecf": {
          "model_module": "@jupyter-widgets/base",
          "model_name": "LayoutModel",
          "model_module_version": "1.2.0",
          "state": {
            "_model_module": "@jupyter-widgets/base",
            "_model_module_version": "1.2.0",
            "_model_name": "LayoutModel",
            "_view_count": null,
            "_view_module": "@jupyter-widgets/base",
            "_view_module_version": "1.2.0",
            "_view_name": "LayoutView",
            "align_content": null,
            "align_items": null,
            "align_self": null,
            "border": null,
            "bottom": null,
            "display": null,
            "flex": null,
            "flex_flow": null,
            "grid_area": null,
            "grid_auto_columns": null,
            "grid_auto_flow": null,
            "grid_auto_rows": null,
            "grid_column": null,
            "grid_gap": null,
            "grid_row": null,
            "grid_template_areas": null,
            "grid_template_columns": null,
            "grid_template_rows": null,
            "height": null,
            "justify_content": null,
            "justify_items": null,
            "left": null,
            "margin": null,
            "max_height": null,
            "max_width": null,
            "min_height": null,
            "min_width": null,
            "object_fit": null,
            "object_position": null,
            "order": null,
            "overflow": null,
            "overflow_x": null,
            "overflow_y": null,
            "padding": null,
            "right": null,
            "top": null,
            "visibility": null,
            "width": null
          }
        },
        "9220ced09b45412fb56d2c4e82b1dbc0": {
          "model_module": "@jupyter-widgets/controls",
          "model_name": "ProgressStyleModel",
          "model_module_version": "1.5.0",
          "state": {
            "_model_module": "@jupyter-widgets/controls",
            "_model_module_version": "1.5.0",
            "_model_name": "ProgressStyleModel",
            "_view_count": null,
            "_view_module": "@jupyter-widgets/base",
            "_view_module_version": "1.2.0",
            "_view_name": "StyleView",
            "bar_color": null,
            "description_width": ""
          }
        },
        "c2ef630190bc47f0b874ff1965fec86c": {
          "model_module": "@jupyter-widgets/base",
          "model_name": "LayoutModel",
          "model_module_version": "1.2.0",
          "state": {
            "_model_module": "@jupyter-widgets/base",
            "_model_module_version": "1.2.0",
            "_model_name": "LayoutModel",
            "_view_count": null,
            "_view_module": "@jupyter-widgets/base",
            "_view_module_version": "1.2.0",
            "_view_name": "LayoutView",
            "align_content": null,
            "align_items": null,
            "align_self": null,
            "border": null,
            "bottom": null,
            "display": null,
            "flex": null,
            "flex_flow": null,
            "grid_area": null,
            "grid_auto_columns": null,
            "grid_auto_flow": null,
            "grid_auto_rows": null,
            "grid_column": null,
            "grid_gap": null,
            "grid_row": null,
            "grid_template_areas": null,
            "grid_template_columns": null,
            "grid_template_rows": null,
            "height": null,
            "justify_content": null,
            "justify_items": null,
            "left": null,
            "margin": null,
            "max_height": null,
            "max_width": null,
            "min_height": null,
            "min_width": null,
            "object_fit": null,
            "object_position": null,
            "order": null,
            "overflow": null,
            "overflow_x": null,
            "overflow_y": null,
            "padding": null,
            "right": null,
            "top": null,
            "visibility": null,
            "width": null
          }
        },
        "dc7f70e16bb04ae2bbcb70fe8dc8c704": {
          "model_module": "@jupyter-widgets/controls",
          "model_name": "DescriptionStyleModel",
          "model_module_version": "1.5.0",
          "state": {
            "_model_module": "@jupyter-widgets/controls",
            "_model_module_version": "1.5.0",
            "_model_name": "DescriptionStyleModel",
            "_view_count": null,
            "_view_module": "@jupyter-widgets/base",
            "_view_module_version": "1.2.0",
            "_view_name": "StyleView",
            "description_width": ""
          }
        },
        "2b19ee562b544aa28a01c10ea217478f": {
          "model_module": "@jupyter-widgets/controls",
          "model_name": "HBoxModel",
          "model_module_version": "1.5.0",
          "state": {
            "_dom_classes": [],
            "_model_module": "@jupyter-widgets/controls",
            "_model_module_version": "1.5.0",
            "_model_name": "HBoxModel",
            "_view_count": null,
            "_view_module": "@jupyter-widgets/controls",
            "_view_module_version": "1.5.0",
            "_view_name": "HBoxView",
            "box_style": "",
            "children": [
              "IPY_MODEL_be98130df8fb4c7a8b603d07c9be505f",
              "IPY_MODEL_6a2b02f6b1154c7cae69263afc34da85",
              "IPY_MODEL_cb284a1489954c0f9d8dfb1bec40884b"
            ],
            "layout": "IPY_MODEL_f0e983dc689c47f79b005ce813019888"
          }
        },
        "be98130df8fb4c7a8b603d07c9be505f": {
          "model_module": "@jupyter-widgets/controls",
          "model_name": "HTMLModel",
          "model_module_version": "1.5.0",
          "state": {
            "_dom_classes": [],
            "_model_module": "@jupyter-widgets/controls",
            "_model_module_version": "1.5.0",
            "_model_name": "HTMLModel",
            "_view_count": null,
            "_view_module": "@jupyter-widgets/controls",
            "_view_module_version": "1.5.0",
            "_view_name": "HTMLView",
            "description": "",
            "description_tooltip": null,
            "layout": "IPY_MODEL_713d079fd4484eb9a4f74e02a6e2c690",
            "placeholder": "​",
            "style": "IPY_MODEL_cefc228978d94aec98f8ce3568d9ebf3",
            "value": "pytorch_model.bin: 100%"
          }
        },
        "6a2b02f6b1154c7cae69263afc34da85": {
          "model_module": "@jupyter-widgets/controls",
          "model_name": "FloatProgressModel",
          "model_module_version": "1.5.0",
          "state": {
            "_dom_classes": [],
            "_model_module": "@jupyter-widgets/controls",
            "_model_module_version": "1.5.0",
            "_model_name": "FloatProgressModel",
            "_view_count": null,
            "_view_module": "@jupyter-widgets/controls",
            "_view_module_version": "1.5.0",
            "_view_name": "ProgressView",
            "bar_style": "success",
            "description": "",
            "description_tooltip": null,
            "layout": "IPY_MODEL_72264cc20e734d5d9edec505bf7ec8fb",
            "max": 501045531,
            "min": 0,
            "orientation": "horizontal",
            "style": "IPY_MODEL_e664afc4a32148ccab77b31ad89e1725",
            "value": 501045531
          }
        },
        "cb284a1489954c0f9d8dfb1bec40884b": {
          "model_module": "@jupyter-widgets/controls",
          "model_name": "HTMLModel",
          "model_module_version": "1.5.0",
          "state": {
            "_dom_classes": [],
            "_model_module": "@jupyter-widgets/controls",
            "_model_module_version": "1.5.0",
            "_model_name": "HTMLModel",
            "_view_count": null,
            "_view_module": "@jupyter-widgets/controls",
            "_view_module_version": "1.5.0",
            "_view_name": "HTMLView",
            "description": "",
            "description_tooltip": null,
            "layout": "IPY_MODEL_577f5d1185f94693ac2568b292a59ae9",
            "placeholder": "​",
            "style": "IPY_MODEL_ea464a0ee52c4055b726fcb24dd62a6a",
            "value": " 501M/501M [00:21&lt;00:00, 18.4MB/s]"
          }
        },
        "f0e983dc689c47f79b005ce813019888": {
          "model_module": "@jupyter-widgets/base",
          "model_name": "LayoutModel",
          "model_module_version": "1.2.0",
          "state": {
            "_model_module": "@jupyter-widgets/base",
            "_model_module_version": "1.2.0",
            "_model_name": "LayoutModel",
            "_view_count": null,
            "_view_module": "@jupyter-widgets/base",
            "_view_module_version": "1.2.0",
            "_view_name": "LayoutView",
            "align_content": null,
            "align_items": null,
            "align_self": null,
            "border": null,
            "bottom": null,
            "display": null,
            "flex": null,
            "flex_flow": null,
            "grid_area": null,
            "grid_auto_columns": null,
            "grid_auto_flow": null,
            "grid_auto_rows": null,
            "grid_column": null,
            "grid_gap": null,
            "grid_row": null,
            "grid_template_areas": null,
            "grid_template_columns": null,
            "grid_template_rows": null,
            "height": null,
            "justify_content": null,
            "justify_items": null,
            "left": null,
            "margin": null,
            "max_height": null,
            "max_width": null,
            "min_height": null,
            "min_width": null,
            "object_fit": null,
            "object_position": null,
            "order": null,
            "overflow": null,
            "overflow_x": null,
            "overflow_y": null,
            "padding": null,
            "right": null,
            "top": null,
            "visibility": null,
            "width": null
          }
        },
        "713d079fd4484eb9a4f74e02a6e2c690": {
          "model_module": "@jupyter-widgets/base",
          "model_name": "LayoutModel",
          "model_module_version": "1.2.0",
          "state": {
            "_model_module": "@jupyter-widgets/base",
            "_model_module_version": "1.2.0",
            "_model_name": "LayoutModel",
            "_view_count": null,
            "_view_module": "@jupyter-widgets/base",
            "_view_module_version": "1.2.0",
            "_view_name": "LayoutView",
            "align_content": null,
            "align_items": null,
            "align_self": null,
            "border": null,
            "bottom": null,
            "display": null,
            "flex": null,
            "flex_flow": null,
            "grid_area": null,
            "grid_auto_columns": null,
            "grid_auto_flow": null,
            "grid_auto_rows": null,
            "grid_column": null,
            "grid_gap": null,
            "grid_row": null,
            "grid_template_areas": null,
            "grid_template_columns": null,
            "grid_template_rows": null,
            "height": null,
            "justify_content": null,
            "justify_items": null,
            "left": null,
            "margin": null,
            "max_height": null,
            "max_width": null,
            "min_height": null,
            "min_width": null,
            "object_fit": null,
            "object_position": null,
            "order": null,
            "overflow": null,
            "overflow_x": null,
            "overflow_y": null,
            "padding": null,
            "right": null,
            "top": null,
            "visibility": null,
            "width": null
          }
        },
        "cefc228978d94aec98f8ce3568d9ebf3": {
          "model_module": "@jupyter-widgets/controls",
          "model_name": "DescriptionStyleModel",
          "model_module_version": "1.5.0",
          "state": {
            "_model_module": "@jupyter-widgets/controls",
            "_model_module_version": "1.5.0",
            "_model_name": "DescriptionStyleModel",
            "_view_count": null,
            "_view_module": "@jupyter-widgets/base",
            "_view_module_version": "1.2.0",
            "_view_name": "StyleView",
            "description_width": ""
          }
        },
        "72264cc20e734d5d9edec505bf7ec8fb": {
          "model_module": "@jupyter-widgets/base",
          "model_name": "LayoutModel",
          "model_module_version": "1.2.0",
          "state": {
            "_model_module": "@jupyter-widgets/base",
            "_model_module_version": "1.2.0",
            "_model_name": "LayoutModel",
            "_view_count": null,
            "_view_module": "@jupyter-widgets/base",
            "_view_module_version": "1.2.0",
            "_view_name": "LayoutView",
            "align_content": null,
            "align_items": null,
            "align_self": null,
            "border": null,
            "bottom": null,
            "display": null,
            "flex": null,
            "flex_flow": null,
            "grid_area": null,
            "grid_auto_columns": null,
            "grid_auto_flow": null,
            "grid_auto_rows": null,
            "grid_column": null,
            "grid_gap": null,
            "grid_row": null,
            "grid_template_areas": null,
            "grid_template_columns": null,
            "grid_template_rows": null,
            "height": null,
            "justify_content": null,
            "justify_items": null,
            "left": null,
            "margin": null,
            "max_height": null,
            "max_width": null,
            "min_height": null,
            "min_width": null,
            "object_fit": null,
            "object_position": null,
            "order": null,
            "overflow": null,
            "overflow_x": null,
            "overflow_y": null,
            "padding": null,
            "right": null,
            "top": null,
            "visibility": null,
            "width": null
          }
        },
        "e664afc4a32148ccab77b31ad89e1725": {
          "model_module": "@jupyter-widgets/controls",
          "model_name": "ProgressStyleModel",
          "model_module_version": "1.5.0",
          "state": {
            "_model_module": "@jupyter-widgets/controls",
            "_model_module_version": "1.5.0",
            "_model_name": "ProgressStyleModel",
            "_view_count": null,
            "_view_module": "@jupyter-widgets/base",
            "_view_module_version": "1.2.0",
            "_view_name": "StyleView",
            "bar_color": null,
            "description_width": ""
          }
        },
        "577f5d1185f94693ac2568b292a59ae9": {
          "model_module": "@jupyter-widgets/base",
          "model_name": "LayoutModel",
          "model_module_version": "1.2.0",
          "state": {
            "_model_module": "@jupyter-widgets/base",
            "_model_module_version": "1.2.0",
            "_model_name": "LayoutModel",
            "_view_count": null,
            "_view_module": "@jupyter-widgets/base",
            "_view_module_version": "1.2.0",
            "_view_name": "LayoutView",
            "align_content": null,
            "align_items": null,
            "align_self": null,
            "border": null,
            "bottom": null,
            "display": null,
            "flex": null,
            "flex_flow": null,
            "grid_area": null,
            "grid_auto_columns": null,
            "grid_auto_flow": null,
            "grid_auto_rows": null,
            "grid_column": null,
            "grid_gap": null,
            "grid_row": null,
            "grid_template_areas": null,
            "grid_template_columns": null,
            "grid_template_rows": null,
            "height": null,
            "justify_content": null,
            "justify_items": null,
            "left": null,
            "margin": null,
            "max_height": null,
            "max_width": null,
            "min_height": null,
            "min_width": null,
            "object_fit": null,
            "object_position": null,
            "order": null,
            "overflow": null,
            "overflow_x": null,
            "overflow_y": null,
            "padding": null,
            "right": null,
            "top": null,
            "visibility": null,
            "width": null
          }
        },
        "ea464a0ee52c4055b726fcb24dd62a6a": {
          "model_module": "@jupyter-widgets/controls",
          "model_name": "DescriptionStyleModel",
          "model_module_version": "1.5.0",
          "state": {
            "_model_module": "@jupyter-widgets/controls",
            "_model_module_version": "1.5.0",
            "_model_name": "DescriptionStyleModel",
            "_view_count": null,
            "_view_module": "@jupyter-widgets/base",
            "_view_module_version": "1.2.0",
            "_view_name": "StyleView",
            "description_width": ""
          }
        },
        "7858fcfe275f421e8fc9360d57111a41": {
          "model_module": "@jupyter-widgets/controls",
          "model_name": "HBoxModel",
          "model_module_version": "1.5.0",
          "state": {
            "_dom_classes": [],
            "_model_module": "@jupyter-widgets/controls",
            "_model_module_version": "1.5.0",
            "_model_name": "HBoxModel",
            "_view_count": null,
            "_view_module": "@jupyter-widgets/controls",
            "_view_module_version": "1.5.0",
            "_view_name": "HBoxView",
            "box_style": "",
            "children": [
              "IPY_MODEL_71c3b3e49f1c4ca88fbfd4421e037db9",
              "IPY_MODEL_c3a979675cf748be949c4661887ddc29",
              "IPY_MODEL_13f4f8dcd19545eea5525203f19ba45a"
            ],
            "layout": "IPY_MODEL_3dd9a6e4cea944748005919a578d9ade"
          }
        },
        "71c3b3e49f1c4ca88fbfd4421e037db9": {
          "model_module": "@jupyter-widgets/controls",
          "model_name": "HTMLModel",
          "model_module_version": "1.5.0",
          "state": {
            "_dom_classes": [],
            "_model_module": "@jupyter-widgets/controls",
            "_model_module_version": "1.5.0",
            "_model_name": "HTMLModel",
            "_view_count": null,
            "_view_module": "@jupyter-widgets/controls",
            "_view_module_version": "1.5.0",
            "_view_name": "HTMLView",
            "description": "",
            "description_tooltip": null,
            "layout": "IPY_MODEL_75509a332e5c40cca9da42dba6f66ac0",
            "placeholder": "​",
            "style": "IPY_MODEL_ed949933da6c4a56a225a622be0a6f44",
            "value": "model.safetensors: 100%"
          }
        },
        "c3a979675cf748be949c4661887ddc29": {
          "model_module": "@jupyter-widgets/controls",
          "model_name": "FloatProgressModel",
          "model_module_version": "1.5.0",
          "state": {
            "_dom_classes": [],
            "_model_module": "@jupyter-widgets/controls",
            "_model_module_version": "1.5.0",
            "_model_name": "FloatProgressModel",
            "_view_count": null,
            "_view_module": "@jupyter-widgets/controls",
            "_view_module_version": "1.5.0",
            "_view_name": "ProgressView",
            "bar_style": "success",
            "description": "",
            "description_tooltip": null,
            "layout": "IPY_MODEL_233ac32244084615911316cd140633d4",
            "max": 500982668,
            "min": 0,
            "orientation": "horizontal",
            "style": "IPY_MODEL_6e9c47b3996f483ba087029aa1ac58ab",
            "value": 500982668
          }
        },
        "13f4f8dcd19545eea5525203f19ba45a": {
          "model_module": "@jupyter-widgets/controls",
          "model_name": "HTMLModel",
          "model_module_version": "1.5.0",
          "state": {
            "_dom_classes": [],
            "_model_module": "@jupyter-widgets/controls",
            "_model_module_version": "1.5.0",
            "_model_name": "HTMLModel",
            "_view_count": null,
            "_view_module": "@jupyter-widgets/controls",
            "_view_module_version": "1.5.0",
            "_view_name": "HTMLView",
            "description": "",
            "description_tooltip": null,
            "layout": "IPY_MODEL_137f409c9c10470980d4dce1edec01b0",
            "placeholder": "​",
            "style": "IPY_MODEL_b2be688eb1ee48a1bd7ad765c1c0946f",
            "value": " 501M/501M [00:38&lt;00:00, 15.5MB/s]"
          }
        },
        "3dd9a6e4cea944748005919a578d9ade": {
          "model_module": "@jupyter-widgets/base",
          "model_name": "LayoutModel",
          "model_module_version": "1.2.0",
          "state": {
            "_model_module": "@jupyter-widgets/base",
            "_model_module_version": "1.2.0",
            "_model_name": "LayoutModel",
            "_view_count": null,
            "_view_module": "@jupyter-widgets/base",
            "_view_module_version": "1.2.0",
            "_view_name": "LayoutView",
            "align_content": null,
            "align_items": null,
            "align_self": null,
            "border": null,
            "bottom": null,
            "display": null,
            "flex": null,
            "flex_flow": null,
            "grid_area": null,
            "grid_auto_columns": null,
            "grid_auto_flow": null,
            "grid_auto_rows": null,
            "grid_column": null,
            "grid_gap": null,
            "grid_row": null,
            "grid_template_areas": null,
            "grid_template_columns": null,
            "grid_template_rows": null,
            "height": null,
            "justify_content": null,
            "justify_items": null,
            "left": null,
            "margin": null,
            "max_height": null,
            "max_width": null,
            "min_height": null,
            "min_width": null,
            "object_fit": null,
            "object_position": null,
            "order": null,
            "overflow": null,
            "overflow_x": null,
            "overflow_y": null,
            "padding": null,
            "right": null,
            "top": null,
            "visibility": null,
            "width": null
          }
        },
        "75509a332e5c40cca9da42dba6f66ac0": {
          "model_module": "@jupyter-widgets/base",
          "model_name": "LayoutModel",
          "model_module_version": "1.2.0",
          "state": {
            "_model_module": "@jupyter-widgets/base",
            "_model_module_version": "1.2.0",
            "_model_name": "LayoutModel",
            "_view_count": null,
            "_view_module": "@jupyter-widgets/base",
            "_view_module_version": "1.2.0",
            "_view_name": "LayoutView",
            "align_content": null,
            "align_items": null,
            "align_self": null,
            "border": null,
            "bottom": null,
            "display": null,
            "flex": null,
            "flex_flow": null,
            "grid_area": null,
            "grid_auto_columns": null,
            "grid_auto_flow": null,
            "grid_auto_rows": null,
            "grid_column": null,
            "grid_gap": null,
            "grid_row": null,
            "grid_template_areas": null,
            "grid_template_columns": null,
            "grid_template_rows": null,
            "height": null,
            "justify_content": null,
            "justify_items": null,
            "left": null,
            "margin": null,
            "max_height": null,
            "max_width": null,
            "min_height": null,
            "min_width": null,
            "object_fit": null,
            "object_position": null,
            "order": null,
            "overflow": null,
            "overflow_x": null,
            "overflow_y": null,
            "padding": null,
            "right": null,
            "top": null,
            "visibility": null,
            "width": null
          }
        },
        "ed949933da6c4a56a225a622be0a6f44": {
          "model_module": "@jupyter-widgets/controls",
          "model_name": "DescriptionStyleModel",
          "model_module_version": "1.5.0",
          "state": {
            "_model_module": "@jupyter-widgets/controls",
            "_model_module_version": "1.5.0",
            "_model_name": "DescriptionStyleModel",
            "_view_count": null,
            "_view_module": "@jupyter-widgets/base",
            "_view_module_version": "1.2.0",
            "_view_name": "StyleView",
            "description_width": ""
          }
        },
        "233ac32244084615911316cd140633d4": {
          "model_module": "@jupyter-widgets/base",
          "model_name": "LayoutModel",
          "model_module_version": "1.2.0",
          "state": {
            "_model_module": "@jupyter-widgets/base",
            "_model_module_version": "1.2.0",
            "_model_name": "LayoutModel",
            "_view_count": null,
            "_view_module": "@jupyter-widgets/base",
            "_view_module_version": "1.2.0",
            "_view_name": "LayoutView",
            "align_content": null,
            "align_items": null,
            "align_self": null,
            "border": null,
            "bottom": null,
            "display": null,
            "flex": null,
            "flex_flow": null,
            "grid_area": null,
            "grid_auto_columns": null,
            "grid_auto_flow": null,
            "grid_auto_rows": null,
            "grid_column": null,
            "grid_gap": null,
            "grid_row": null,
            "grid_template_areas": null,
            "grid_template_columns": null,
            "grid_template_rows": null,
            "height": null,
            "justify_content": null,
            "justify_items": null,
            "left": null,
            "margin": null,
            "max_height": null,
            "max_width": null,
            "min_height": null,
            "min_width": null,
            "object_fit": null,
            "object_position": null,
            "order": null,
            "overflow": null,
            "overflow_x": null,
            "overflow_y": null,
            "padding": null,
            "right": null,
            "top": null,
            "visibility": null,
            "width": null
          }
        },
        "6e9c47b3996f483ba087029aa1ac58ab": {
          "model_module": "@jupyter-widgets/controls",
          "model_name": "ProgressStyleModel",
          "model_module_version": "1.5.0",
          "state": {
            "_model_module": "@jupyter-widgets/controls",
            "_model_module_version": "1.5.0",
            "_model_name": "ProgressStyleModel",
            "_view_count": null,
            "_view_module": "@jupyter-widgets/base",
            "_view_module_version": "1.2.0",
            "_view_name": "StyleView",
            "bar_color": null,
            "description_width": ""
          }
        },
        "137f409c9c10470980d4dce1edec01b0": {
          "model_module": "@jupyter-widgets/base",
          "model_name": "LayoutModel",
          "model_module_version": "1.2.0",
          "state": {
            "_model_module": "@jupyter-widgets/base",
            "_model_module_version": "1.2.0",
            "_model_name": "LayoutModel",
            "_view_count": null,
            "_view_module": "@jupyter-widgets/base",
            "_view_module_version": "1.2.0",
            "_view_name": "LayoutView",
            "align_content": null,
            "align_items": null,
            "align_self": null,
            "border": null,
            "bottom": null,
            "display": null,
            "flex": null,
            "flex_flow": null,
            "grid_area": null,
            "grid_auto_columns": null,
            "grid_auto_flow": null,
            "grid_auto_rows": null,
            "grid_column": null,
            "grid_gap": null,
            "grid_row": null,
            "grid_template_areas": null,
            "grid_template_columns": null,
            "grid_template_rows": null,
            "height": null,
            "justify_content": null,
            "justify_items": null,
            "left": null,
            "margin": null,
            "max_height": null,
            "max_width": null,
            "min_height": null,
            "min_width": null,
            "object_fit": null,
            "object_position": null,
            "order": null,
            "overflow": null,
            "overflow_x": null,
            "overflow_y": null,
            "padding": null,
            "right": null,
            "top": null,
            "visibility": null,
            "width": null
          }
        },
        "b2be688eb1ee48a1bd7ad765c1c0946f": {
          "model_module": "@jupyter-widgets/controls",
          "model_name": "DescriptionStyleModel",
          "model_module_version": "1.5.0",
          "state": {
            "_model_module": "@jupyter-widgets/controls",
            "_model_module_version": "1.5.0",
            "_model_name": "DescriptionStyleModel",
            "_view_count": null,
            "_view_module": "@jupyter-widgets/base",
            "_view_module_version": "1.2.0",
            "_view_name": "StyleView",
            "description_width": ""
          }
        }
      }
    }
  },
  "nbformat": 4,
  "nbformat_minor": 0
}